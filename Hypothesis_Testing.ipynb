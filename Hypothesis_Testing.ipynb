{
 "cells": [
  {
   "cell_type": "markdown",
   "metadata": {},
   "source": [
    "# Hypothesis Testing\n",
    "\n",
    "- A hypothesis test is a process that uses sample statistics to test a claim about the value of a population parameter\n",
    "- Researchers in fields such as medicine, psychology, and business rely on hypothesis testing to make informed decisions about new medicines treatments, and marketing strategies.\n",
    "\n",
    "**Stating a Hypothesis**\n",
    "- to test a population parameter, you should carefully state a pair of hypotheses one that represents the claim and the other, its complement.\n",
    "- when one of these hypotheses is false, the other must be tru. Either hypothesis the null hypothesis or the alternative hypothesis may represent the original claim.\n",
    "- if the statement in the null hypothesis is not true, then the alternative hypothesis must be true\n",
    "- regardless of which of the three pairs of hypotheses we use, we always assume mean = k and examine the sampling distribution on the basis of this assumption\n",
    "- The point : how we can make a null hypothesis and the compliment."
   ]
  },
  {
   "cell_type": "markdown",
   "metadata": {},
   "source": [
    "**Types of Errors and Level of Significance**\n",
    "\n",
    "- no matter which hypothesis represents the claim, we always begin a hypothesis test by assuming that the eauality condition in the null hypothesis is true\n",
    "- when we perform a hypothesis test, we make one of two decisions: reject the null hypothesis or accept(fail to reject) the null hypothesis\n",
    "- because your decision to reject or to accept is based on a sample, you must accept the fact that your decision might be incorrect.\n",
    "\n",
    "- type I error, if the null hypothesis is rejected when it is true(Failed to accept)\n",
    "- type II error, if the null hypothesis is not rejected when it is false(Failed to reject)\n",
    "\n",
    "- in a hypothesis test, the level of significance is your maximum allowable probability of making a type I error. it is denoted by alpha. Alpha value : 0.10, 0.05, 0.01\n",
    "- the probability of a type II error is denoted by beta\n",
    "- when we decrease alpha, we are likely to be increasing beta\n"
   ]
  },
  {
   "cell_type": "markdown",
   "metadata": {},
   "source": [
    "**Statistical Tests and P-Values**\n",
    "- after stating the null and alternative hypotheses and specifying the level of significance, the next step in ahypothesis test is to obtain a random sample from the population and calculate the sample statistic\n",
    "- this sample statistic is called the test statistic\n",
    "- the standardized test statistic is used in making the decision about the null hypothesis(reject or accept)\n",
    "- Three types of hypotheis test : **left-tailed, right-tailed, two-tailed**\n",
    "    - alternative hypo <, then it's left-tailed test\n",
    "    - alternative hypo >, then it's right-tailed test\n",
    "    - alternative hypo not equal to, then it's two-tailed\n",
    "- How to interpret\n",
    "    - the smaller the P-value, the more evidence there is to reject the null hypothesis\n",
    "    - a very small P-value indicates an unusual event\n",
    "    - however, that even a very low P-value does not constitute proof that the null hypothesis is false, only that it is probably false (because it's a sample)"
   ]
  },
  {
   "cell_type": "markdown",
   "metadata": {},
   "source": [
    "**Making a Decision and Interpreting the Decision**\n",
    "\n",
    "- To conclude a hypothesis test, we make a decision and interpret that decision.\n",
    "- Possible outcomes:\n",
    "    - reject the null hypothesis\n",
    "    - accept the null hypothesis\n",
    "- To use a P-value to make a decision in a hypothesis test, compare the P-value with alpha\n",
    "    - if P <= a, then reject H0\n",
    "    - if P > a, then accept H0\n",
    "- Accepting the null hypothesis does not mean that we have accepted the null hypothesis as true. It simply means that there is not enough evidence to reject the null hypothesis."
   ]
  },
  {
   "cell_type": "markdown",
   "metadata": {},
   "source": [
    "**Steps for Hypothesis Testing**\n",
    "1. State the claim mehematically and verbally. Identify the null and alternative hypotheses.\n",
    "    - H0 = ?, Ha = ?\n",
    "2. Specify the level of significance.\n",
    "    - a = ?\n",
    "3. Determine the standardized sampling distribution and sketch its graph.\n",
    "4. Calculate the test statistic and its corresponding standardized test statistic.\n",
    "5. Find the P-value\n",
    "6. Use this decision rule\n",
    "    - is the P-value less than or equal to the level of significance ?\n",
    "        - Yes, reject H0\n",
    "        - No, Fail to reject H0\n",
    "7. Write a statement to interpret the decision in the context of the original claim."
   ]
  },
  {
   "cell_type": "markdown",
   "metadata": {},
   "source": [
    "**Study Case**\n",
    "\n",
    "**Q1** : A school publicizes that the proportion of its students who are incolved in at least one extracurricular activity is 61%.\n",
    "- The proportion of students who are involved in at least one extracurricular activity is 61% (claim)\n",
    "    - H0 = 0.61\n",
    "- The proportion of students who are involved in at least one extracurricular activity is not 61% (compliment)\n",
    "    - Ha != 0.61\n",
    "- Because Ha contains the != symbol, the test is a two-tailed hypothesis test    \n",
    "Making The Decision : How should you interpret your decision if you reject H0 ? if you fail to reject H0?\n",
    "- Q1: H0 (Claim)\n",
    "- Solution\n",
    "    - The claim is represented by H0\n",
    "    - if you reject H0, then you should conclude \"there is enough evidence to reject the school's claim that the proportion fo students who are incolved in at least one extracurricular activity is 61%\"\n",
    "    - if you fail to reject H0, then you should conclude \"there is not enough evidence to reject the school's claim that the proportion fo students who are incolved in at least one extracurricular activity is 61%\"\n",
    "\n",
    "**Q2** : A car dealership announces that the mean time for an oil change is less than 15 minutes.\n",
    "- The mean time for an oil change is greater than or equal to 15 minutes\n",
    "    - H0 : mean >= 15\n",
    "- The mean time for an oil change is less than 15 minutes\n",
    "    - Ha : mean < 15\n",
    "- Because Ha contains the < symbol, the test is a left-tailed hypothesis test\n",
    "\n",
    "Making The Decision : \n",
    "- Q2: Ha (Claim)\n",
    "- Solution\n",
    "    - The claim is represented by Ha\n",
    "    - if you reject H0, then you should conclude \"there is enough evidence to support the dealership's claim that the mean time for an oil change is less than 15 minutes\"\n",
    "    - if you fail to reject H0, then you should conclude \"there is not enough evidence to support the dealership's claim that the mean time for an oil change is less than 15 minutes\""
   ]
  },
  {
   "cell_type": "markdown",
   "metadata": {},
   "source": [
    "**Strategies**\n",
    "- The strategy is depend on whether we are trying to support or reject a claim\n",
    "- we can not use a hypothesis test to support our claim when our claim is the null hypothesis\n",
    "- to perform a hypothesis test where the possible outcome will support a claim, word the claim so it is the alternative hypothesis\n",
    "- to perform a hypothesis test where the possible outcome will reject a claim, word it so the claim is the null hypothesis"
   ]
  },
  {
   "cell_type": "markdown",
   "metadata": {},
   "source": [
    "Reference : https://www.youtube.com/watch?v=INTge8u-LQI"
   ]
  }
 ],
 "metadata": {
  "kernelspec": {
   "display_name": "Python 3",
   "language": "python",
   "name": "python3"
  },
  "language_info": {
   "codemirror_mode": {
    "name": "ipython",
    "version": 3
   },
   "file_extension": ".py",
   "mimetype": "text/x-python",
   "name": "python",
   "nbconvert_exporter": "python",
   "pygments_lexer": "ipython3",
   "version": "3.8.5"
  }
 },
 "nbformat": 4,
 "nbformat_minor": 4
}
