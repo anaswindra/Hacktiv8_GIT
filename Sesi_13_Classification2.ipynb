{
 "cells": [
  {
   "cell_type": "markdown",
   "metadata": {},
   "source": [
    "# Sesi 13\n",
    "# Clasification 2\n",
    "\n",
    "- Naive Bayes\n",
    "- Decision Tree\n",
    "- Random Forest\n",
    "- Support Vector Machine"
   ]
  },
  {
   "cell_type": "markdown",
   "metadata": {},
   "source": [
    "## Naive Bayes"
   ]
  },
  {
   "cell_type": "code",
   "execution_count": 4,
   "metadata": {},
   "outputs": [],
   "source": [
    "# Naive Bayes with Multiple label"
   ]
  },
  {
   "cell_type": "code",
   "execution_count": 5,
   "metadata": {},
   "outputs": [],
   "source": [
    "from sklearn import datasets\n",
    "\n",
    "wine = datasets.load_wine()"
   ]
  },
  {
   "cell_type": "code",
   "execution_count": 7,
   "metadata": {},
   "outputs": [],
   "source": [
    "#split data to data training and testing\n",
    "from sklearn.model_selection import train_test_split"
   ]
  },
  {
   "cell_type": "code",
   "execution_count": 8,
   "metadata": {},
   "outputs": [],
   "source": [
    "x_train, x_test, y_train, y_test = train_test_split(wine.data, \n",
    "                                                    wine.target, \n",
    "                                                    test_size=0.3, \n",
    "                                                    random_state=13)"
   ]
  },
  {
   "cell_type": "code",
   "execution_count": 9,
   "metadata": {},
   "outputs": [],
   "source": [
    "from sklearn.naive_bayes import GaussianNB"
   ]
  },
  {
   "cell_type": "code",
   "execution_count": 11,
   "metadata": {},
   "outputs": [
    {
     "data": {
      "text/plain": [
       "GaussianNB()"
      ]
     },
     "execution_count": 11,
     "metadata": {},
     "output_type": "execute_result"
    }
   ],
   "source": [
    "gnb = GaussianNB()\n",
    "\n",
    "gnb.fit(x_train, y_train)"
   ]
  },
  {
   "cell_type": "code",
   "execution_count": 12,
   "metadata": {},
   "outputs": [],
   "source": [
    "y_pred = gnb.predict(x_test)"
   ]
  },
  {
   "cell_type": "code",
   "execution_count": 13,
   "metadata": {},
   "outputs": [
    {
     "data": {
      "text/plain": [
       "0.9814814814814815"
      ]
     },
     "execution_count": 13,
     "metadata": {},
     "output_type": "execute_result"
    }
   ],
   "source": [
    "from sklearn import metrics\n",
    "\n",
    "metrics.accuracy_score(y_test, y_pred)"
   ]
  },
  {
   "cell_type": "code",
   "execution_count": 16,
   "metadata": {},
   "outputs": [
    {
     "data": {
      "text/plain": [
       "array([1])"
      ]
     },
     "execution_count": 16,
     "metadata": {},
     "output_type": "execute_result"
    }
   ],
   "source": [
    "gnb.predict([[1,1,1,1,1,1,1,1,1,1,1,1,1]])"
   ]
  },
  {
   "cell_type": "code",
   "execution_count": 17,
   "metadata": {},
   "outputs": [
    {
     "data": {
      "text/plain": [
       "GaussianNB()"
      ]
     },
     "execution_count": 17,
     "metadata": {},
     "output_type": "execute_result"
    }
   ],
   "source": [
    "# untuk menyesuaikan dengan kemampuan komputer (digunakan jika komputer/resource tidak mampu mengakses data yang besar)\n",
    "gnb.partial_fit(x_train, y_train)"
   ]
  },
  {
   "cell_type": "markdown",
   "metadata": {},
   "source": [
    "## Descission Tree"
   ]
  },
  {
   "cell_type": "code",
   "execution_count": 19,
   "metadata": {},
   "outputs": [],
   "source": [
    "import pandas as pd\n",
    "\n",
    "from sklearn.tree import DecisionTreeClassifier\n",
    "from sklearn.model_selection import train_test_split\n",
    "from sklearn.metrics import accuracy_score"
   ]
  },
  {
   "cell_type": "code",
   "execution_count": 20,
   "metadata": {},
   "outputs": [],
   "source": [
    "col_names = ['pregnant', 'glucose', 'bp', 'skin', 'insulin', 'bmi', 'pedigree', 'age', 'label']"
   ]
  },
  {
   "cell_type": "code",
   "execution_count": 21,
   "metadata": {},
   "outputs": [
    {
     "name": "stdout",
     "output_type": "stream",
     "text": [
      "['pregnant', 'glucose', 'bp', 'skin', 'insulin', 'bmi', 'pedigree', 'age', 'label']\n"
     ]
    }
   ],
   "source": [
    "print(col_names)"
   ]
  },
  {
   "cell_type": "code",
   "execution_count": 22,
   "metadata": {},
   "outputs": [],
   "source": [
    "pima = pd.read_csv('https://raw.githubusercontent.com/ardhiraka/PFDS_sources/master/diabetes.csv', header=None, names=col_names)"
   ]
  },
  {
   "cell_type": "code",
   "execution_count": 23,
   "metadata": {},
   "outputs": [
    {
     "data": {
      "text/html": [
       "<div>\n",
       "<style scoped>\n",
       "    .dataframe tbody tr th:only-of-type {\n",
       "        vertical-align: middle;\n",
       "    }\n",
       "\n",
       "    .dataframe tbody tr th {\n",
       "        vertical-align: top;\n",
       "    }\n",
       "\n",
       "    .dataframe thead th {\n",
       "        text-align: right;\n",
       "    }\n",
       "</style>\n",
       "<table border=\"1\" class=\"dataframe\">\n",
       "  <thead>\n",
       "    <tr style=\"text-align: right;\">\n",
       "      <th></th>\n",
       "      <th>pregnant</th>\n",
       "      <th>glucose</th>\n",
       "      <th>bp</th>\n",
       "      <th>skin</th>\n",
       "      <th>insulin</th>\n",
       "      <th>bmi</th>\n",
       "      <th>pedigree</th>\n",
       "      <th>age</th>\n",
       "      <th>label</th>\n",
       "    </tr>\n",
       "  </thead>\n",
       "  <tbody>\n",
       "    <tr>\n",
       "      <th>0</th>\n",
       "      <td>Pregnancies</td>\n",
       "      <td>Glucose</td>\n",
       "      <td>BloodPressure</td>\n",
       "      <td>SkinThickness</td>\n",
       "      <td>Insulin</td>\n",
       "      <td>BMI</td>\n",
       "      <td>DiabetesPedigreeFunction</td>\n",
       "      <td>Age</td>\n",
       "      <td>Outcome</td>\n",
       "    </tr>\n",
       "    <tr>\n",
       "      <th>1</th>\n",
       "      <td>6</td>\n",
       "      <td>148</td>\n",
       "      <td>72</td>\n",
       "      <td>35</td>\n",
       "      <td>0</td>\n",
       "      <td>33.6</td>\n",
       "      <td>0.627</td>\n",
       "      <td>50</td>\n",
       "      <td>1</td>\n",
       "    </tr>\n",
       "    <tr>\n",
       "      <th>2</th>\n",
       "      <td>1</td>\n",
       "      <td>85</td>\n",
       "      <td>66</td>\n",
       "      <td>29</td>\n",
       "      <td>0</td>\n",
       "      <td>26.6</td>\n",
       "      <td>0.351</td>\n",
       "      <td>31</td>\n",
       "      <td>0</td>\n",
       "    </tr>\n",
       "    <tr>\n",
       "      <th>3</th>\n",
       "      <td>8</td>\n",
       "      <td>183</td>\n",
       "      <td>64</td>\n",
       "      <td>0</td>\n",
       "      <td>0</td>\n",
       "      <td>23.3</td>\n",
       "      <td>0.672</td>\n",
       "      <td>32</td>\n",
       "      <td>1</td>\n",
       "    </tr>\n",
       "    <tr>\n",
       "      <th>4</th>\n",
       "      <td>1</td>\n",
       "      <td>89</td>\n",
       "      <td>66</td>\n",
       "      <td>23</td>\n",
       "      <td>94</td>\n",
       "      <td>28.1</td>\n",
       "      <td>0.167</td>\n",
       "      <td>21</td>\n",
       "      <td>0</td>\n",
       "    </tr>\n",
       "  </tbody>\n",
       "</table>\n",
       "</div>"
      ],
      "text/plain": [
       "      pregnant  glucose             bp           skin  insulin   bmi  \\\n",
       "0  Pregnancies  Glucose  BloodPressure  SkinThickness  Insulin   BMI   \n",
       "1            6      148             72             35        0  33.6   \n",
       "2            1       85             66             29        0  26.6   \n",
       "3            8      183             64              0        0  23.3   \n",
       "4            1       89             66             23       94  28.1   \n",
       "\n",
       "                   pedigree  age    label  \n",
       "0  DiabetesPedigreeFunction  Age  Outcome  \n",
       "1                     0.627   50        1  \n",
       "2                     0.351   31        0  \n",
       "3                     0.672   32        1  \n",
       "4                     0.167   21        0  "
      ]
     },
     "execution_count": 23,
     "metadata": {},
     "output_type": "execute_result"
    }
   ],
   "source": [
    "pima.head()"
   ]
  },
  {
   "cell_type": "code",
   "execution_count": 24,
   "metadata": {},
   "outputs": [],
   "source": [
    "pima.drop(0, inplace=True)"
   ]
  },
  {
   "cell_type": "code",
   "execution_count": 25,
   "metadata": {},
   "outputs": [
    {
     "data": {
      "text/html": [
       "<div>\n",
       "<style scoped>\n",
       "    .dataframe tbody tr th:only-of-type {\n",
       "        vertical-align: middle;\n",
       "    }\n",
       "\n",
       "    .dataframe tbody tr th {\n",
       "        vertical-align: top;\n",
       "    }\n",
       "\n",
       "    .dataframe thead th {\n",
       "        text-align: right;\n",
       "    }\n",
       "</style>\n",
       "<table border=\"1\" class=\"dataframe\">\n",
       "  <thead>\n",
       "    <tr style=\"text-align: right;\">\n",
       "      <th></th>\n",
       "      <th>pregnant</th>\n",
       "      <th>glucose</th>\n",
       "      <th>bp</th>\n",
       "      <th>skin</th>\n",
       "      <th>insulin</th>\n",
       "      <th>bmi</th>\n",
       "      <th>pedigree</th>\n",
       "      <th>age</th>\n",
       "      <th>label</th>\n",
       "    </tr>\n",
       "  </thead>\n",
       "  <tbody>\n",
       "    <tr>\n",
       "      <th>1</th>\n",
       "      <td>6</td>\n",
       "      <td>148</td>\n",
       "      <td>72</td>\n",
       "      <td>35</td>\n",
       "      <td>0</td>\n",
       "      <td>33.6</td>\n",
       "      <td>0.627</td>\n",
       "      <td>50</td>\n",
       "      <td>1</td>\n",
       "    </tr>\n",
       "    <tr>\n",
       "      <th>2</th>\n",
       "      <td>1</td>\n",
       "      <td>85</td>\n",
       "      <td>66</td>\n",
       "      <td>29</td>\n",
       "      <td>0</td>\n",
       "      <td>26.6</td>\n",
       "      <td>0.351</td>\n",
       "      <td>31</td>\n",
       "      <td>0</td>\n",
       "    </tr>\n",
       "    <tr>\n",
       "      <th>3</th>\n",
       "      <td>8</td>\n",
       "      <td>183</td>\n",
       "      <td>64</td>\n",
       "      <td>0</td>\n",
       "      <td>0</td>\n",
       "      <td>23.3</td>\n",
       "      <td>0.672</td>\n",
       "      <td>32</td>\n",
       "      <td>1</td>\n",
       "    </tr>\n",
       "    <tr>\n",
       "      <th>4</th>\n",
       "      <td>1</td>\n",
       "      <td>89</td>\n",
       "      <td>66</td>\n",
       "      <td>23</td>\n",
       "      <td>94</td>\n",
       "      <td>28.1</td>\n",
       "      <td>0.167</td>\n",
       "      <td>21</td>\n",
       "      <td>0</td>\n",
       "    </tr>\n",
       "    <tr>\n",
       "      <th>5</th>\n",
       "      <td>0</td>\n",
       "      <td>137</td>\n",
       "      <td>40</td>\n",
       "      <td>35</td>\n",
       "      <td>168</td>\n",
       "      <td>43.1</td>\n",
       "      <td>2.288</td>\n",
       "      <td>33</td>\n",
       "      <td>1</td>\n",
       "    </tr>\n",
       "  </tbody>\n",
       "</table>\n",
       "</div>"
      ],
      "text/plain": [
       "  pregnant glucose  bp skin insulin   bmi pedigree age label\n",
       "1        6     148  72   35       0  33.6    0.627  50     1\n",
       "2        1      85  66   29       0  26.6    0.351  31     0\n",
       "3        8     183  64    0       0  23.3    0.672  32     1\n",
       "4        1      89  66   23      94  28.1    0.167  21     0\n",
       "5        0     137  40   35     168  43.1    2.288  33     1"
      ]
     },
     "execution_count": 25,
     "metadata": {},
     "output_type": "execute_result"
    }
   ],
   "source": [
    "pima.head()"
   ]
  },
  {
   "cell_type": "code",
   "execution_count": 26,
   "metadata": {},
   "outputs": [
    {
     "name": "stdout",
     "output_type": "stream",
     "text": [
      "<class 'pandas.core.frame.DataFrame'>\n",
      "Int64Index: 768 entries, 1 to 768\n",
      "Data columns (total 9 columns):\n",
      " #   Column    Non-Null Count  Dtype \n",
      "---  ------    --------------  ----- \n",
      " 0   pregnant  768 non-null    object\n",
      " 1   glucose   768 non-null    object\n",
      " 2   bp        768 non-null    object\n",
      " 3   skin      768 non-null    object\n",
      " 4   insulin   768 non-null    object\n",
      " 5   bmi       768 non-null    object\n",
      " 6   pedigree  768 non-null    object\n",
      " 7   age       768 non-null    object\n",
      " 8   label     768 non-null    object\n",
      "dtypes: object(9)\n",
      "memory usage: 60.0+ KB\n"
     ]
    }
   ],
   "source": [
    "pima.info()"
   ]
  },
  {
   "cell_type": "code",
   "execution_count": 27,
   "metadata": {},
   "outputs": [],
   "source": [
    "# ganti kolom ke numerik\n",
    "# error coerce kalo ada yang tidak bisa diganti maka diubah ke nan\n",
    "\n",
    "for col in col_names:\n",
    "    pima[col] = pd.to_numeric(pima[col], errors='coerce')"
   ]
  },
  {
   "cell_type": "code",
   "execution_count": 28,
   "metadata": {},
   "outputs": [
    {
     "name": "stdout",
     "output_type": "stream",
     "text": [
      "<class 'pandas.core.frame.DataFrame'>\n",
      "Int64Index: 768 entries, 1 to 768\n",
      "Data columns (total 9 columns):\n",
      " #   Column    Non-Null Count  Dtype  \n",
      "---  ------    --------------  -----  \n",
      " 0   pregnant  768 non-null    int64  \n",
      " 1   glucose   768 non-null    int64  \n",
      " 2   bp        768 non-null    int64  \n",
      " 3   skin      768 non-null    int64  \n",
      " 4   insulin   768 non-null    int64  \n",
      " 5   bmi       768 non-null    float64\n",
      " 6   pedigree  768 non-null    float64\n",
      " 7   age       768 non-null    int64  \n",
      " 8   label     768 non-null    int64  \n",
      "dtypes: float64(2), int64(7)\n",
      "memory usage: 60.0 KB\n"
     ]
    }
   ],
   "source": [
    "pima.info()"
   ]
  },
  {
   "cell_type": "code",
   "execution_count": 29,
   "metadata": {},
   "outputs": [
    {
     "data": {
      "text/html": [
       "<div>\n",
       "<style scoped>\n",
       "    .dataframe tbody tr th:only-of-type {\n",
       "        vertical-align: middle;\n",
       "    }\n",
       "\n",
       "    .dataframe tbody tr th {\n",
       "        vertical-align: top;\n",
       "    }\n",
       "\n",
       "    .dataframe thead th {\n",
       "        text-align: right;\n",
       "    }\n",
       "</style>\n",
       "<table border=\"1\" class=\"dataframe\">\n",
       "  <thead>\n",
       "    <tr style=\"text-align: right;\">\n",
       "      <th></th>\n",
       "      <th>pregnant</th>\n",
       "      <th>glucose</th>\n",
       "      <th>bp</th>\n",
       "      <th>skin</th>\n",
       "      <th>insulin</th>\n",
       "      <th>bmi</th>\n",
       "      <th>pedigree</th>\n",
       "      <th>age</th>\n",
       "      <th>label</th>\n",
       "    </tr>\n",
       "  </thead>\n",
       "  <tbody>\n",
       "    <tr>\n",
       "      <th>1</th>\n",
       "      <td>6</td>\n",
       "      <td>148</td>\n",
       "      <td>72</td>\n",
       "      <td>35</td>\n",
       "      <td>0</td>\n",
       "      <td>33.6</td>\n",
       "      <td>0.627</td>\n",
       "      <td>50</td>\n",
       "      <td>1</td>\n",
       "    </tr>\n",
       "    <tr>\n",
       "      <th>2</th>\n",
       "      <td>1</td>\n",
       "      <td>85</td>\n",
       "      <td>66</td>\n",
       "      <td>29</td>\n",
       "      <td>0</td>\n",
       "      <td>26.6</td>\n",
       "      <td>0.351</td>\n",
       "      <td>31</td>\n",
       "      <td>0</td>\n",
       "    </tr>\n",
       "  </tbody>\n",
       "</table>\n",
       "</div>"
      ],
      "text/plain": [
       "   pregnant  glucose  bp  skin  insulin   bmi  pedigree  age  label\n",
       "1         6      148  72    35        0  33.6     0.627   50      1\n",
       "2         1       85  66    29        0  26.6     0.351   31      0"
      ]
     },
     "execution_count": 29,
     "metadata": {},
     "output_type": "execute_result"
    }
   ],
   "source": [
    "# tentukan data x dan y\n",
    "pima.head(2)"
   ]
  },
  {
   "cell_type": "code",
   "execution_count": 33,
   "metadata": {},
   "outputs": [],
   "source": [
    "feature_cols = ['pregnant', 'glucose', 'bp', 'skin', 'insulin', 'bmi', 'pedigree', 'age']"
   ]
  },
  {
   "cell_type": "code",
   "execution_count": 34,
   "metadata": {},
   "outputs": [],
   "source": [
    "x = pima[feature_cols]\n",
    "y = pima.label"
   ]
  },
  {
   "cell_type": "code",
   "execution_count": 35,
   "metadata": {},
   "outputs": [
    {
     "data": {
      "text/html": [
       "<div>\n",
       "<style scoped>\n",
       "    .dataframe tbody tr th:only-of-type {\n",
       "        vertical-align: middle;\n",
       "    }\n",
       "\n",
       "    .dataframe tbody tr th {\n",
       "        vertical-align: top;\n",
       "    }\n",
       "\n",
       "    .dataframe thead th {\n",
       "        text-align: right;\n",
       "    }\n",
       "</style>\n",
       "<table border=\"1\" class=\"dataframe\">\n",
       "  <thead>\n",
       "    <tr style=\"text-align: right;\">\n",
       "      <th></th>\n",
       "      <th>pregnant</th>\n",
       "      <th>glucose</th>\n",
       "      <th>bp</th>\n",
       "      <th>skin</th>\n",
       "      <th>insulin</th>\n",
       "      <th>bmi</th>\n",
       "      <th>pedigree</th>\n",
       "      <th>age</th>\n",
       "    </tr>\n",
       "  </thead>\n",
       "  <tbody>\n",
       "    <tr>\n",
       "      <th>1</th>\n",
       "      <td>6</td>\n",
       "      <td>148</td>\n",
       "      <td>72</td>\n",
       "      <td>35</td>\n",
       "      <td>0</td>\n",
       "      <td>33.6</td>\n",
       "      <td>0.627</td>\n",
       "      <td>50</td>\n",
       "    </tr>\n",
       "    <tr>\n",
       "      <th>2</th>\n",
       "      <td>1</td>\n",
       "      <td>85</td>\n",
       "      <td>66</td>\n",
       "      <td>29</td>\n",
       "      <td>0</td>\n",
       "      <td>26.6</td>\n",
       "      <td>0.351</td>\n",
       "      <td>31</td>\n",
       "    </tr>\n",
       "  </tbody>\n",
       "</table>\n",
       "</div>"
      ],
      "text/plain": [
       "   pregnant  glucose  bp  skin  insulin   bmi  pedigree  age\n",
       "1         6      148  72    35        0  33.6     0.627   50\n",
       "2         1       85  66    29        0  26.6     0.351   31"
      ]
     },
     "execution_count": 35,
     "metadata": {},
     "output_type": "execute_result"
    }
   ],
   "source": [
    "x.head(2)"
   ]
  },
  {
   "cell_type": "code",
   "execution_count": 36,
   "metadata": {},
   "outputs": [
    {
     "data": {
      "text/plain": [
       "1    1\n",
       "2    0\n",
       "3    1\n",
       "Name: label, dtype: int64"
      ]
     },
     "execution_count": 36,
     "metadata": {},
     "output_type": "execute_result"
    }
   ],
   "source": [
    "y[0:3]"
   ]
  },
  {
   "cell_type": "code",
   "execution_count": 37,
   "metadata": {},
   "outputs": [],
   "source": [
    "x_train, x_test, y_train, y_test = train_test_split(x, \n",
    "                                                    y, \n",
    "                                                    test_size=0.3, \n",
    "                                                    random_state=13)"
   ]
  },
  {
   "cell_type": "code",
   "execution_count": 38,
   "metadata": {},
   "outputs": [],
   "source": [
    "# predict using decision tree\n",
    "clf = DecisionTreeClassifier()\n",
    "\n",
    "clf.fit(x_train, y_train)\n",
    "\n",
    "y_pred = clf.predict(x_test)"
   ]
  },
  {
   "cell_type": "code",
   "execution_count": 39,
   "metadata": {},
   "outputs": [
    {
     "data": {
      "text/plain": [
       "0.696969696969697"
      ]
     },
     "execution_count": 39,
     "metadata": {},
     "output_type": "execute_result"
    }
   ],
   "source": [
    "accuracy_score(y_test, y_pred)"
   ]
  },
  {
   "cell_type": "code",
   "execution_count": 41,
   "metadata": {
    "collapsed": true,
    "jupyter": {
     "outputs_hidden": true
    }
   },
   "outputs": [
    {
     "data": {
      "text/plain": [
       "[Text(143.07769396551726, 209.6742857142857, 'X[1] <= 123.5\\ngini = 0.447\\nsamples = 537\\nvalue = [356, 181]'),\n",
       " Text(40.286637931034484, 194.14285714285714, 'X[7] <= 28.5\\ngini = 0.282\\nsamples = 324\\nvalue = [269, 55]'),\n",
       " Text(25.013793103448275, 178.61142857142858, 'X[5] <= 45.4\\ngini = 0.135\\nsamples = 192\\nvalue = [178, 14]'),\n",
       " Text(21.165517241379312, 163.07999999999998, 'X[5] <= 30.95\\ngini = 0.11\\nsamples = 189\\nvalue = [178, 11]'),\n",
       " Text(13.46896551724138, 147.54857142857142, 'X[6] <= 0.672\\ngini = 0.018\\nsamples = 112\\nvalue = [111, 1]'),\n",
       " Text(9.620689655172415, 132.01714285714286, 'gini = 0.0\\nsamples = 100\\nvalue = [100, 0]'),\n",
       " Text(17.317241379310346, 132.01714285714286, 'X[0] <= 2.5\\ngini = 0.153\\nsamples = 12\\nvalue = [11, 1]'),\n",
       " Text(13.46896551724138, 116.48571428571428, 'gini = 0.0\\nsamples = 11\\nvalue = [11, 0]'),\n",
       " Text(21.165517241379312, 116.48571428571428, 'gini = 0.0\\nsamples = 1\\nvalue = [0, 1]'),\n",
       " Text(28.862068965517242, 147.54857142857142, 'X[5] <= 31.3\\ngini = 0.226\\nsamples = 77\\nvalue = [67, 10]'),\n",
       " Text(25.013793103448275, 132.01714285714286, 'gini = 0.0\\nsamples = 1\\nvalue = [0, 1]'),\n",
       " Text(32.710344827586205, 132.01714285714286, 'X[6] <= 1.272\\ngini = 0.209\\nsamples = 76\\nvalue = [67, 9]'),\n",
       " Text(28.862068965517242, 116.48571428571428, 'X[4] <= 38.0\\ngini = 0.191\\nsamples = 75\\nvalue = [67, 8]'),\n",
       " Text(19.24137931034483, 100.9542857142857, 'X[1] <= 111.5\\ngini = 0.358\\nsamples = 30\\nvalue = [23, 7]'),\n",
       " Text(11.544827586206896, 85.42285714285714, 'X[3] <= 40.5\\ngini = 0.165\\nsamples = 22\\nvalue = [20, 2]'),\n",
       " Text(7.696551724137931, 69.89142857142858, 'X[4] <= 34.0\\ngini = 0.091\\nsamples = 21\\nvalue = [20, 1]'),\n",
       " Text(3.8482758620689657, 54.359999999999985, 'gini = 0.0\\nsamples = 20\\nvalue = [20, 0]'),\n",
       " Text(11.544827586206896, 54.359999999999985, 'gini = 0.0\\nsamples = 1\\nvalue = [0, 1]'),\n",
       " Text(15.393103448275863, 69.89142857142858, 'gini = 0.0\\nsamples = 1\\nvalue = [0, 1]'),\n",
       " Text(26.93793103448276, 85.42285714285714, 'X[3] <= 13.5\\ngini = 0.469\\nsamples = 8\\nvalue = [3, 5]'),\n",
       " Text(23.089655172413792, 69.89142857142858, 'gini = 0.0\\nsamples = 3\\nvalue = [0, 3]'),\n",
       " Text(30.786206896551725, 69.89142857142858, 'X[5] <= 34.65\\ngini = 0.48\\nsamples = 5\\nvalue = [3, 2]'),\n",
       " Text(26.93793103448276, 54.359999999999985, 'gini = 0.0\\nsamples = 2\\nvalue = [0, 2]'),\n",
       " Text(34.63448275862069, 54.359999999999985, 'gini = 0.0\\nsamples = 3\\nvalue = [3, 0]'),\n",
       " Text(38.48275862068966, 100.9542857142857, 'X[6] <= 0.895\\ngini = 0.043\\nsamples = 45\\nvalue = [44, 1]'),\n",
       " Text(34.63448275862069, 85.42285714285714, 'gini = 0.0\\nsamples = 42\\nvalue = [42, 0]'),\n",
       " Text(42.331034482758625, 85.42285714285714, 'X[6] <= 0.927\\ngini = 0.444\\nsamples = 3\\nvalue = [2, 1]'),\n",
       " Text(38.48275862068966, 69.89142857142858, 'gini = 0.0\\nsamples = 1\\nvalue = [0, 1]'),\n",
       " Text(46.179310344827584, 69.89142857142858, 'gini = 0.0\\nsamples = 2\\nvalue = [2, 0]'),\n",
       " Text(36.55862068965517, 116.48571428571428, 'gini = 0.0\\nsamples = 1\\nvalue = [0, 1]'),\n",
       " Text(28.862068965517242, 163.07999999999998, 'gini = 0.0\\nsamples = 3\\nvalue = [0, 3]'),\n",
       " Text(55.55948275862069, 178.61142857142858, 'X[5] <= 26.8\\ngini = 0.428\\nsamples = 132\\nvalue = [91, 41]'),\n",
       " Text(40.40689655172414, 163.07999999999998, 'X[5] <= 9.8\\ngini = 0.074\\nsamples = 26\\nvalue = [25, 1]'),\n",
       " Text(36.55862068965517, 147.54857142857142, 'gini = 0.0\\nsamples = 1\\nvalue = [0, 1]'),\n",
       " Text(44.255172413793105, 147.54857142857142, 'gini = 0.0\\nsamples = 25\\nvalue = [25, 0]'),\n",
       " Text(70.71206896551725, 163.07999999999998, 'X[1] <= 91.5\\ngini = 0.47\\nsamples = 106\\nvalue = [66, 40]'),\n",
       " Text(51.95172413793104, 147.54857142857142, 'X[1] <= 28.5\\ngini = 0.219\\nsamples = 24\\nvalue = [21, 3]'),\n",
       " Text(48.10344827586207, 132.01714285714286, 'gini = 0.0\\nsamples = 2\\nvalue = [0, 2]'),\n",
       " Text(55.800000000000004, 132.01714285714286, 'X[7] <= 52.0\\ngini = 0.087\\nsamples = 22\\nvalue = [21, 1]'),\n",
       " Text(51.95172413793104, 116.48571428571428, 'gini = 0.0\\nsamples = 21\\nvalue = [21, 0]'),\n",
       " Text(59.64827586206897, 116.48571428571428, 'gini = 0.0\\nsamples = 1\\nvalue = [0, 1]'),\n",
       " Text(89.47241379310346, 147.54857142857142, 'X[7] <= 53.0\\ngini = 0.495\\nsamples = 82\\nvalue = [45, 37]'),\n",
       " Text(85.62413793103448, 132.01714285714286, 'X[6] <= 0.521\\ngini = 0.5\\nsamples = 76\\nvalue = [39, 37]'),\n",
       " Text(67.3448275862069, 116.48571428571428, 'X[3] <= 27.5\\ngini = 0.475\\nsamples = 49\\nvalue = [30, 19]'),\n",
       " Text(57.724137931034484, 100.9542857142857, 'X[7] <= 30.5\\ngini = 0.497\\nsamples = 28\\nvalue = [13, 15]'),\n",
       " Text(53.87586206896552, 85.42285714285714, 'gini = 0.0\\nsamples = 4\\nvalue = [4, 0]'),\n",
       " Text(61.57241379310345, 85.42285714285714, 'X[2] <= 89.0\\ngini = 0.469\\nsamples = 24\\nvalue = [9, 15]'),\n",
       " Text(57.724137931034484, 69.89142857142858, 'X[1] <= 121.0\\ngini = 0.434\\nsamples = 22\\nvalue = [7, 15]'),\n",
       " Text(50.02758620689655, 54.359999999999985, 'X[7] <= 41.0\\ngini = 0.346\\nsamples = 18\\nvalue = [4, 14]'),\n",
       " Text(46.179310344827584, 38.82857142857142, 'gini = 0.0\\nsamples = 8\\nvalue = [0, 8]'),\n",
       " Text(53.87586206896552, 38.82857142857142, 'X[1] <= 107.0\\ngini = 0.48\\nsamples = 10\\nvalue = [4, 6]'),\n",
       " Text(50.02758620689655, 23.29714285714286, 'X[1] <= 98.5\\ngini = 0.444\\nsamples = 6\\nvalue = [4, 2]'),\n",
       " Text(46.179310344827584, 7.765714285714267, 'gini = 0.0\\nsamples = 2\\nvalue = [0, 2]'),\n",
       " Text(53.87586206896552, 7.765714285714267, 'gini = 0.0\\nsamples = 4\\nvalue = [4, 0]'),\n",
       " Text(57.724137931034484, 23.29714285714286, 'gini = 0.0\\nsamples = 4\\nvalue = [0, 4]'),\n",
       " Text(65.42068965517241, 54.359999999999985, 'X[7] <= 46.5\\ngini = 0.375\\nsamples = 4\\nvalue = [3, 1]'),\n",
       " Text(61.57241379310345, 38.82857142857142, 'gini = 0.0\\nsamples = 3\\nvalue = [3, 0]'),\n",
       " Text(69.26896551724138, 38.82857142857142, 'gini = 0.0\\nsamples = 1\\nvalue = [0, 1]'),\n",
       " Text(65.42068965517241, 69.89142857142858, 'gini = 0.0\\nsamples = 2\\nvalue = [2, 0]'),\n",
       " Text(76.96551724137932, 100.9542857142857, 'X[0] <= 5.5\\ngini = 0.308\\nsamples = 21\\nvalue = [17, 4]'),\n",
       " Text(73.11724137931034, 85.42285714285714, 'gini = 0.0\\nsamples = 10\\nvalue = [10, 0]'),\n",
       " Text(80.81379310344828, 85.42285714285714, 'X[7] <= 35.5\\ngini = 0.463\\nsamples = 11\\nvalue = [7, 4]'),\n",
       " Text(76.96551724137932, 69.89142857142858, 'gini = 0.0\\nsamples = 2\\nvalue = [0, 2]'),\n",
       " Text(84.66206896551725, 69.89142857142858, 'X[2] <= 92.0\\ngini = 0.346\\nsamples = 9\\nvalue = [7, 2]'),\n",
       " Text(80.81379310344828, 54.359999999999985, 'X[2] <= 64.0\\ngini = 0.219\\nsamples = 8\\nvalue = [7, 1]'),\n",
       " Text(76.96551724137932, 38.82857142857142, 'X[5] <= 33.85\\ngini = 0.5\\nsamples = 2\\nvalue = [1, 1]'),\n",
       " Text(73.11724137931034, 23.29714285714286, 'gini = 0.0\\nsamples = 1\\nvalue = [0, 1]'),\n",
       " Text(80.81379310344828, 23.29714285714286, 'gini = 0.0\\nsamples = 1\\nvalue = [1, 0]'),\n",
       " Text(84.66206896551725, 38.82857142857142, 'gini = 0.0\\nsamples = 6\\nvalue = [6, 0]'),\n",
       " Text(88.51034482758621, 54.359999999999985, 'gini = 0.0\\nsamples = 1\\nvalue = [0, 1]'),\n",
       " Text(103.90344827586208, 116.48571428571428, 'X[0] <= 4.5\\ngini = 0.444\\nsamples = 27\\nvalue = [9, 18]'),\n",
       " Text(92.35862068965517, 100.9542857142857, 'X[5] <= 31.5\\ngini = 0.486\\nsamples = 12\\nvalue = [7, 5]'),\n",
       " Text(88.51034482758621, 85.42285714285714, 'gini = 0.0\\nsamples = 4\\nvalue = [4, 0]'),\n",
       " Text(96.20689655172414, 85.42285714285714, 'X[6] <= 0.894\\ngini = 0.469\\nsamples = 8\\nvalue = [3, 5]'),\n",
       " Text(92.35862068965517, 69.89142857142858, 'gini = 0.0\\nsamples = 5\\nvalue = [0, 5]'),\n",
       " Text(100.0551724137931, 69.89142857142858, 'gini = 0.0\\nsamples = 3\\nvalue = [3, 0]'),\n",
       " Text(115.44827586206897, 100.9542857142857, 'X[1] <= 122.5\\ngini = 0.231\\nsamples = 15\\nvalue = [2, 13]'),\n",
       " Text(111.60000000000001, 85.42285714285714, 'X[1] <= 95.5\\ngini = 0.133\\nsamples = 14\\nvalue = [1, 13]'),\n",
       " Text(107.75172413793103, 69.89142857142858, 'X[6] <= 0.832\\ngini = 0.5\\nsamples = 2\\nvalue = [1, 1]'),\n",
       " Text(103.90344827586208, 54.359999999999985, 'gini = 0.0\\nsamples = 1\\nvalue = [1, 0]'),\n",
       " Text(111.60000000000001, 54.359999999999985, 'gini = 0.0\\nsamples = 1\\nvalue = [0, 1]'),\n",
       " Text(115.44827586206897, 69.89142857142858, 'gini = 0.0\\nsamples = 12\\nvalue = [0, 12]'),\n",
       " Text(119.29655172413794, 85.42285714285714, 'gini = 0.0\\nsamples = 1\\nvalue = [1, 0]'),\n",
       " Text(93.32068965517242, 132.01714285714286, 'gini = 0.0\\nsamples = 6\\nvalue = [6, 0]'),\n",
       " Text(245.86875, 194.14285714285714, 'X[1] <= 154.5\\ngini = 0.483\\nsamples = 213\\nvalue = [87, 126]'),\n",
       " Text(187.72370689655173, 178.61142857142858, 'X[5] <= 27.45\\ngini = 0.497\\nsamples = 135\\nvalue = [73, 62]'),\n",
       " Text(138.53793103448277, 163.07999999999998, 'X[1] <= 151.0\\ngini = 0.26\\nsamples = 26\\nvalue = [22, 4]'),\n",
       " Text(134.6896551724138, 147.54857142857142, 'X[0] <= 2.5\\ngini = 0.211\\nsamples = 25\\nvalue = [22, 3]'),\n",
       " Text(130.84137931034482, 132.01714285714286, 'gini = 0.0\\nsamples = 12\\nvalue = [12, 0]'),\n",
       " Text(138.53793103448277, 132.01714285714286, 'X[2] <= 93.0\\ngini = 0.355\\nsamples = 13\\nvalue = [10, 3]'),\n",
       " Text(134.6896551724138, 116.48571428571428, 'X[2] <= 73.0\\ngini = 0.278\\nsamples = 12\\nvalue = [10, 2]'),\n",
       " Text(130.84137931034482, 100.9542857142857, 'X[1] <= 129.5\\ngini = 0.5\\nsamples = 4\\nvalue = [2, 2]'),\n",
       " Text(126.99310344827586, 85.42285714285714, 'gini = 0.0\\nsamples = 1\\nvalue = [0, 1]'),\n",
       " Text(134.6896551724138, 85.42285714285714, 'X[2] <= 68.0\\ngini = 0.444\\nsamples = 3\\nvalue = [2, 1]'),\n",
       " Text(130.84137931034482, 69.89142857142858, 'gini = 0.0\\nsamples = 2\\nvalue = [2, 0]'),\n",
       " Text(138.53793103448277, 69.89142857142858, 'gini = 0.0\\nsamples = 1\\nvalue = [0, 1]'),\n",
       " Text(138.53793103448277, 100.9542857142857, 'gini = 0.0\\nsamples = 8\\nvalue = [8, 0]'),\n",
       " Text(142.38620689655173, 116.48571428571428, 'gini = 0.0\\nsamples = 1\\nvalue = [0, 1]'),\n",
       " Text(142.38620689655173, 147.54857142857142, 'gini = 0.0\\nsamples = 1\\nvalue = [0, 1]'),\n",
       " Text(236.9094827586207, 163.07999999999998, 'X[0] <= 7.5\\ngini = 0.498\\nsamples = 109\\nvalue = [51, 58]'),\n",
       " Text(204.4396551724138, 147.54857142857142, 'X[4] <= 137.5\\ngini = 0.498\\nsamples = 86\\nvalue = [46, 40]'),\n",
       " Text(174.1344827586207, 132.01714285714286, 'X[6] <= 0.311\\ngini = 0.49\\nsamples = 58\\nvalue = [25, 33]'),\n",
       " Text(153.93103448275863, 116.48571428571428, 'X[5] <= 33.75\\ngini = 0.455\\nsamples = 20\\nvalue = [13, 7]'),\n",
       " Text(146.2344827586207, 100.9542857142857, 'X[5] <= 27.55\\ngini = 0.18\\nsamples = 10\\nvalue = [9, 1]'),\n",
       " Text(142.38620689655173, 85.42285714285714, 'gini = 0.0\\nsamples = 1\\nvalue = [0, 1]'),\n",
       " Text(150.08275862068967, 85.42285714285714, 'gini = 0.0\\nsamples = 9\\nvalue = [9, 0]'),\n",
       " Text(161.62758620689655, 100.9542857142857, 'X[6] <= 0.287\\ngini = 0.48\\nsamples = 10\\nvalue = [4, 6]'),\n",
       " Text(157.7793103448276, 85.42285714285714, 'X[1] <= 137.5\\ngini = 0.375\\nsamples = 8\\nvalue = [2, 6]'),\n",
       " Text(153.93103448275863, 69.89142857142858, 'gini = 0.0\\nsamples = 5\\nvalue = [0, 5]'),\n",
       " Text(161.62758620689655, 69.89142857142858, 'X[0] <= 6.0\\ngini = 0.444\\nsamples = 3\\nvalue = [2, 1]'),\n",
       " Text(157.7793103448276, 54.359999999999985, 'gini = 0.0\\nsamples = 2\\nvalue = [2, 0]'),\n",
       " Text(165.4758620689655, 54.359999999999985, 'gini = 0.0\\nsamples = 1\\nvalue = [0, 1]'),\n",
       " Text(165.4758620689655, 85.42285714285714, 'gini = 0.0\\nsamples = 2\\nvalue = [2, 0]'),\n",
       " Text(194.33793103448278, 116.48571428571428, 'X[3] <= 24.5\\ngini = 0.432\\nsamples = 38\\nvalue = [12, 26]'),\n",
       " Text(184.71724137931034, 100.9542857142857, 'X[0] <= 6.5\\ngini = 0.266\\nsamples = 19\\nvalue = [3, 16]'),\n",
       " Text(180.86896551724138, 85.42285714285714, 'X[0] <= 1.5\\ngini = 0.198\\nsamples = 18\\nvalue = [2, 16]'),\n",
       " Text(177.02068965517242, 69.89142857142858, 'X[5] <= 31.4\\ngini = 0.444\\nsamples = 6\\nvalue = [2, 4]'),\n",
       " Text(173.17241379310346, 54.359999999999985, 'X[7] <= 38.0\\ngini = 0.444\\nsamples = 3\\nvalue = [2, 1]'),\n",
       " Text(169.3241379310345, 38.82857142857142, 'gini = 0.0\\nsamples = 2\\nvalue = [2, 0]'),\n",
       " Text(177.02068965517242, 38.82857142857142, 'gini = 0.0\\nsamples = 1\\nvalue = [0, 1]'),\n",
       " Text(180.86896551724138, 54.359999999999985, 'gini = 0.0\\nsamples = 3\\nvalue = [0, 3]'),\n",
       " Text(184.71724137931034, 69.89142857142858, 'gini = 0.0\\nsamples = 12\\nvalue = [0, 12]'),\n",
       " Text(188.56551724137933, 85.42285714285714, 'gini = 0.0\\nsamples = 1\\nvalue = [1, 0]'),\n",
       " Text(203.9586206896552, 100.9542857142857, 'X[4] <= 126.5\\ngini = 0.499\\nsamples = 19\\nvalue = [9, 10]'),\n",
       " Text(200.1103448275862, 85.42285714285714, 'X[2] <= 87.0\\ngini = 0.48\\nsamples = 15\\nvalue = [9, 6]'),\n",
       " Text(192.41379310344828, 69.89142857142858, 'X[7] <= 40.0\\ngini = 0.32\\nsamples = 10\\nvalue = [8, 2]'),\n",
       " Text(188.56551724137933, 54.359999999999985, 'gini = 0.0\\nsamples = 7\\nvalue = [7, 0]'),\n",
       " Text(196.26206896551724, 54.359999999999985, 'X[2] <= 82.0\\ngini = 0.444\\nsamples = 3\\nvalue = [1, 2]'),\n",
       " Text(192.41379310344828, 38.82857142857142, 'gini = 0.0\\nsamples = 2\\nvalue = [0, 2]'),\n",
       " Text(200.1103448275862, 38.82857142857142, 'gini = 0.0\\nsamples = 1\\nvalue = [1, 0]'),\n",
       " Text(207.80689655172415, 69.89142857142858, 'X[7] <= 37.5\\ngini = 0.32\\nsamples = 5\\nvalue = [1, 4]'),\n",
       " Text(203.9586206896552, 54.359999999999985, 'gini = 0.0\\nsamples = 4\\nvalue = [0, 4]'),\n",
       " Text(211.6551724137931, 54.359999999999985, 'gini = 0.0\\nsamples = 1\\nvalue = [1, 0]'),\n",
       " Text(207.80689655172415, 85.42285714285714, 'gini = 0.0\\nsamples = 4\\nvalue = [0, 4]'),\n",
       " Text(234.7448275862069, 132.01714285714286, 'X[7] <= 42.5\\ngini = 0.375\\nsamples = 28\\nvalue = [21, 7]'),\n",
       " Text(227.04827586206898, 116.48571428571428, 'X[2] <= 73.0\\ngini = 0.278\\nsamples = 24\\nvalue = [20, 4]'),\n",
       " Text(223.20000000000002, 100.9542857142857, 'X[0] <= 3.5\\ngini = 0.494\\nsamples = 9\\nvalue = [5, 4]'),\n",
       " Text(219.35172413793103, 85.42285714285714, 'X[2] <= 47.0\\ngini = 0.32\\nsamples = 5\\nvalue = [1, 4]'),\n",
       " Text(215.50344827586207, 69.89142857142858, 'gini = 0.0\\nsamples = 1\\nvalue = [1, 0]'),\n",
       " Text(223.20000000000002, 69.89142857142858, 'gini = 0.0\\nsamples = 4\\nvalue = [0, 4]'),\n",
       " Text(227.04827586206898, 85.42285714285714, 'gini = 0.0\\nsamples = 4\\nvalue = [4, 0]'),\n",
       " Text(230.89655172413794, 100.9542857142857, 'gini = 0.0\\nsamples = 15\\nvalue = [15, 0]'),\n",
       " Text(242.44137931034484, 116.48571428571428, 'X[5] <= 29.6\\ngini = 0.375\\nsamples = 4\\nvalue = [1, 3]'),\n",
       " Text(238.59310344827588, 100.9542857142857, 'gini = 0.0\\nsamples = 1\\nvalue = [1, 0]'),\n",
       " Text(246.2896551724138, 100.9542857142857, 'gini = 0.0\\nsamples = 3\\nvalue = [0, 3]'),\n",
       " Text(269.3793103448276, 147.54857142857142, 'X[6] <= 0.431\\ngini = 0.34\\nsamples = 23\\nvalue = [5, 18]'),\n",
       " Text(261.68275862068964, 132.01714285714286, 'X[6] <= 0.276\\ngini = 0.494\\nsamples = 9\\nvalue = [4, 5]'),\n",
       " Text(257.8344827586207, 116.48571428571428, 'X[2] <= 100.0\\ngini = 0.278\\nsamples = 6\\nvalue = [1, 5]'),\n",
       " Text(253.98620689655172, 100.9542857142857, 'gini = 0.0\\nsamples = 5\\nvalue = [0, 5]'),\n",
       " Text(261.68275862068964, 100.9542857142857, 'gini = 0.0\\nsamples = 1\\nvalue = [1, 0]'),\n",
       " Text(265.5310344827586, 116.48571428571428, 'gini = 0.0\\nsamples = 3\\nvalue = [3, 0]'),\n",
       " Text(277.07586206896553, 132.01714285714286, 'X[6] <= 1.088\\ngini = 0.133\\nsamples = 14\\nvalue = [1, 13]'),\n",
       " Text(273.22758620689655, 116.48571428571428, 'gini = 0.0\\nsamples = 13\\nvalue = [0, 13]'),\n",
       " Text(280.92413793103447, 116.48571428571428, 'gini = 0.0\\nsamples = 1\\nvalue = [1, 0]'),\n",
       " Text(304.0137931034483, 178.61142857142858, 'X[5] <= 29.85\\ngini = 0.295\\nsamples = 78\\nvalue = [14, 64]'),\n",
       " Text(292.4689655172414, 163.07999999999998, 'X[7] <= 52.5\\ngini = 0.497\\nsamples = 13\\nvalue = [7, 6]'),\n",
       " Text(288.62068965517244, 147.54857142857142, 'X[7] <= 25.5\\ngini = 0.444\\nsamples = 9\\nvalue = [3, 6]'),\n",
       " Text(284.77241379310345, 132.01714285714286, 'gini = 0.0\\nsamples = 2\\nvalue = [2, 0]'),\n",
       " Text(292.4689655172414, 132.01714285714286, 'X[6] <= 0.634\\ngini = 0.245\\nsamples = 7\\nvalue = [1, 6]'),\n",
       " Text(288.62068965517244, 116.48571428571428, 'gini = 0.0\\nsamples = 6\\nvalue = [0, 6]'),\n",
       " Text(296.31724137931036, 116.48571428571428, 'gini = 0.0\\nsamples = 1\\nvalue = [1, 0]'),\n",
       " Text(296.31724137931036, 147.54857142857142, 'gini = 0.0\\nsamples = 4\\nvalue = [4, 0]'),\n",
       " Text(315.5586206896552, 163.07999999999998, 'X[4] <= 629.5\\ngini = 0.192\\nsamples = 65\\nvalue = [7, 58]'),\n",
       " Text(307.86206896551727, 147.54857142857142, 'X[6] <= 0.135\\ngini = 0.148\\nsamples = 62\\nvalue = [5, 57]'),\n",
       " Text(304.0137931034483, 132.01714285714286, 'gini = 0.0\\nsamples = 1\\nvalue = [1, 0]'),\n",
       " Text(311.7103448275862, 132.01714285714286, 'X[7] <= 49.5\\ngini = 0.123\\nsamples = 61\\nvalue = [4, 57]'),\n",
       " Text(304.0137931034483, 116.48571428571428, 'X[0] <= 9.5\\ngini = 0.04\\nsamples = 49\\nvalue = [1, 48]'),\n",
       " Text(300.16551724137935, 100.9542857142857, 'gini = 0.0\\nsamples = 45\\nvalue = [0, 45]'),\n",
       " Text(307.86206896551727, 100.9542857142857, 'X[6] <= 0.206\\ngini = 0.375\\nsamples = 4\\nvalue = [1, 3]'),\n",
       " Text(304.0137931034483, 85.42285714285714, 'gini = 0.0\\nsamples = 1\\nvalue = [1, 0]'),\n",
       " Text(311.7103448275862, 85.42285714285714, 'gini = 0.0\\nsamples = 3\\nvalue = [0, 3]'),\n",
       " Text(319.4068965517242, 116.48571428571428, 'X[0] <= 1.5\\ngini = 0.375\\nsamples = 12\\nvalue = [3, 9]'),\n",
       " Text(315.5586206896552, 100.9542857142857, 'gini = 0.0\\nsamples = 2\\nvalue = [2, 0]'),\n",
       " Text(323.2551724137931, 100.9542857142857, 'X[2] <= 93.5\\ngini = 0.18\\nsamples = 10\\nvalue = [1, 9]'),\n",
       " Text(319.4068965517242, 85.42285714285714, 'gini = 0.0\\nsamples = 7\\nvalue = [0, 7]'),\n",
       " Text(327.1034482758621, 85.42285714285714, 'X[3] <= 27.5\\ngini = 0.444\\nsamples = 3\\nvalue = [1, 2]'),\n",
       " Text(323.2551724137931, 69.89142857142858, 'gini = 0.0\\nsamples = 2\\nvalue = [0, 2]'),\n",
       " Text(330.951724137931, 69.89142857142858, 'gini = 0.0\\nsamples = 1\\nvalue = [1, 0]'),\n",
       " Text(323.2551724137931, 147.54857142857142, 'X[3] <= 28.0\\ngini = 0.444\\nsamples = 3\\nvalue = [2, 1]'),\n",
       " Text(319.4068965517242, 132.01714285714286, 'gini = 0.0\\nsamples = 1\\nvalue = [0, 1]'),\n",
       " Text(327.1034482758621, 132.01714285714286, 'gini = 0.0\\nsamples = 2\\nvalue = [2, 0]')]"
      ]
     },
     "execution_count": 41,
     "metadata": {},
     "output_type": "execute_result"
    },
    {
     "data": {
      "image/png": "[encoded data removed]",
      "text/plain": [
       "<Figure size 432x288 with 1 Axes>"
      ]
     },
     "metadata": {
      "needs_background": "light"
     },
     "output_type": "display_data"
    }
   ],
   "source": [
    "from sklearn import tree\n",
    "\n",
    "tree.plot_tree(clf)"
   ]
  },
  {
   "cell_type": "code",
   "execution_count": 43,
   "metadata": {
    "collapsed": true,
    "jupyter": {
     "outputs_hidden": true
    }
   },
   "outputs": [
    {
     "name": "stdout",
     "output_type": "stream",
     "text": [
      "Collecting package metadata (current_repodata.json): ...working... done\n",
      "Solving environment: ...working... done\n",
      "\n",
      "## Package Plan ##\n",
      "\n",
      "  environment location: C:\\Users\\icode9\\anaconda3\n",
      "\n",
      "  added / updated specs:\n",
      "    - python-graphviz\n",
      "\n",
      "\n",
      "The following packages will be downloaded:\n",
      "\n",
      "    package                    |            build\n",
      "    ---------------------------|-----------------\n",
      "    graphviz-2.38              |       hfd603c8_2        29.3 MB\n",
      "    python-graphviz-0.16       |     pyhd3eb1b0_1          20 KB\n",
      "    ------------------------------------------------------------\n",
      "                                           Total:        29.3 MB\n",
      "\n",
      "The following NEW packages will be INSTALLED:\n",
      "\n",
      "  graphviz           pkgs/main/win-64::graphviz-2.38-hfd603c8_2\n",
      "  python-graphviz    pkgs/main/noarch::python-graphviz-0.16-pyhd3eb1b0_1\n",
      "\n",
      "\n",
      "\n",
      "Downloading and Extracting Packages\n",
      "\n",
      "python-graphviz-0.16 | 20 KB     |            |   0% \n",
      "python-graphviz-0.16 | 20 KB     | #######8   |  78% \n",
      "python-graphviz-0.16 | 20 KB     | ########## | 100% \n",
      "python-graphviz-0.16 | 20 KB     | ########## | 100% \n",
      "\n",
      "graphviz-2.38        | 29.3 MB   |            |   0% \n",
      "graphviz-2.38        | 29.3 MB   |            |   0% \n",
      "graphviz-2.38        | 29.3 MB   |            |   0% \n",
      "graphviz-2.38        | 29.3 MB   |            |   1% \n",
      "graphviz-2.38        | 29.3 MB   |            |   1% \n",
      "graphviz-2.38        | 29.3 MB   |            |   1% \n",
      "graphviz-2.38        | 29.3 MB   |            |   1% \n",
      "graphviz-2.38        | 29.3 MB   | 1          |   1% \n",
      "graphviz-2.38        | 29.3 MB   | 1          |   1% \n",
      "graphviz-2.38        | 29.3 MB   | 1          |   1% \n",
      "graphviz-2.38        | 29.3 MB   | 1          |   1% \n",
      "graphviz-2.38        | 29.3 MB   | 1          |   1% \n",
      "graphviz-2.38        | 29.3 MB   | 1          |   2% \n",
      "graphviz-2.38        | 29.3 MB   | 1          |   2% \n",
      "graphviz-2.38        | 29.3 MB   | 1          |   2% \n",
      "graphviz-2.38        | 29.3 MB   | 1          |   2% \n",
      "graphviz-2.38        | 29.3 MB   | 2          |   2% \n",
      "graphviz-2.38        | 29.3 MB   | 2          |   2% \n",
      "graphviz-2.38        | 29.3 MB   | 2          |   2% \n",
      "graphviz-2.38        | 29.3 MB   | 2          |   2% \n",
      "graphviz-2.38        | 29.3 MB   | 2          |   2% \n",
      "graphviz-2.38        | 29.3 MB   | 2          |   3% \n",
      "graphviz-2.38        | 29.3 MB   | 2          |   3% \n",
      "graphviz-2.38        | 29.3 MB   | 2          |   3% \n",
      "graphviz-2.38        | 29.3 MB   | 2          |   3% \n",
      "graphviz-2.38        | 29.3 MB   | 2          |   3% \n",
      "graphviz-2.38        | 29.3 MB   | 2          |   3% \n",
      "graphviz-2.38        | 29.3 MB   | 3          |   3% \n",
      "graphviz-2.38        | 29.3 MB   | 3          |   3% \n",
      "graphviz-2.38        | 29.3 MB   | 3          |   3% \n",
      "graphviz-2.38        | 29.3 MB   | 3          |   3% \n",
      "graphviz-2.38        | 29.3 MB   | 3          |   4% \n",
      "graphviz-2.38        | 29.3 MB   | 3          |   4% \n",
      "graphviz-2.38        | 29.3 MB   | 3          |   4% \n",
      "graphviz-2.38        | 29.3 MB   | 3          |   4% \n",
      "graphviz-2.38        | 29.3 MB   | 3          |   4% \n",
      "graphviz-2.38        | 29.3 MB   | 4          |   4% \n",
      "graphviz-2.38        | 29.3 MB   | 4          |   4% \n",
      "graphviz-2.38        | 29.3 MB   | 4          |   4% \n",
      "graphviz-2.38        | 29.3 MB   | 4          |   4% \n",
      "graphviz-2.38        | 29.3 MB   | 4          |   4% \n",
      "graphviz-2.38        | 29.3 MB   | 4          |   4% \n",
      "graphviz-2.38        | 29.3 MB   | 4          |   5% \n",
      "graphviz-2.38        | 29.3 MB   | 4          |   5% \n",
      "graphviz-2.38        | 29.3 MB   | 4          |   5% \n",
      "graphviz-2.38        | 29.3 MB   | 4          |   5% \n",
      "graphviz-2.38        | 29.3 MB   | 4          |   5% \n",
      "graphviz-2.38        | 29.3 MB   | 5          |   5% \n",
      "graphviz-2.38        | 29.3 MB   | 5          |   5% \n",
      "graphviz-2.38        | 29.3 MB   | 5          |   5% \n",
      "graphviz-2.38        | 29.3 MB   | 5          |   5% \n",
      "graphviz-2.38        | 29.3 MB   | 5          |   5% \n",
      "graphviz-2.38        | 29.3 MB   | 5          |   6% \n",
      "graphviz-2.38        | 29.3 MB   | 5          |   6% \n",
      "graphviz-2.38        | 29.3 MB   | 5          |   6% \n",
      "graphviz-2.38        | 29.3 MB   | 5          |   6% \n",
      "graphviz-2.38        | 29.3 MB   | 6          |   6% \n",
      "graphviz-2.38        | 29.3 MB   | 6          |   6% \n",
      "graphviz-2.38        | 29.3 MB   | 6          |   6% \n",
      "graphviz-2.38        | 29.3 MB   | 6          |   6% \n",
      "graphviz-2.38        | 29.3 MB   | 6          |   6% \n",
      "graphviz-2.38        | 29.3 MB   | 6          |   7% \n",
      "graphviz-2.38        | 29.3 MB   | 6          |   7% \n",
      "graphviz-2.38        | 29.3 MB   | 6          |   7% \n",
      "graphviz-2.38        | 29.3 MB   | 6          |   7% \n",
      "graphviz-2.38        | 29.3 MB   | 6          |   7% \n",
      "graphviz-2.38        | 29.3 MB   | 6          |   7% \n",
      "graphviz-2.38        | 29.3 MB   | 7          |   7% \n",
      "graphviz-2.38        | 29.3 MB   | 7          |   7% \n",
      "graphviz-2.38        | 29.3 MB   | 7          |   7% \n",
      "graphviz-2.38        | 29.3 MB   | 7          |   7% \n",
      "graphviz-2.38        | 29.3 MB   | 7          |   7% \n",
      "graphviz-2.38        | 29.3 MB   | 7          |   7% \n",
      "graphviz-2.38        | 29.3 MB   | 7          |   8% \n",
      "graphviz-2.38        | 29.3 MB   | 7          |   8% \n",
      "graphviz-2.38        | 29.3 MB   | 7          |   8% \n",
      "graphviz-2.38        | 29.3 MB   | 7          |   8% \n",
      "graphviz-2.38        | 29.3 MB   | 7          |   8% \n",
      "graphviz-2.38        | 29.3 MB   | 8          |   8% \n",
      "graphviz-2.38        | 29.3 MB   | 8          |   8% \n",
      "graphviz-2.38        | 29.3 MB   | 8          |   8% \n",
      "graphviz-2.38        | 29.3 MB   | 8          |   8% \n",
      "graphviz-2.38        | 29.3 MB   | 8          |   8% \n",
      "graphviz-2.38        | 29.3 MB   | 8          |   9% \n",
      "graphviz-2.38        | 29.3 MB   | 8          |   9% \n",
      "graphviz-2.38        | 29.3 MB   | 8          |   9% \n",
      "graphviz-2.38        | 29.3 MB   | 8          |   9% \n",
      "graphviz-2.38        | 29.3 MB   | 8          |   9% \n",
      "graphviz-2.38        | 29.3 MB   | 9          |   9% \n",
      "graphviz-2.38        | 29.3 MB   | 9          |   9% \n",
      "graphviz-2.38        | 29.3 MB   | 9          |   9% \n",
      "graphviz-2.38        | 29.3 MB   | 9          |   9% \n",
      "graphviz-2.38        | 29.3 MB   | 9          |   9% \n",
      "graphviz-2.38        | 29.3 MB   | 9          |   9% \n",
      "graphviz-2.38        | 29.3 MB   | 9          |   9% \n",
      "graphviz-2.38        | 29.3 MB   | 9          |  10% \n",
      "graphviz-2.38        | 29.3 MB   | 9          |  10% \n",
      "graphviz-2.38        | 29.3 MB   | 9          |  10% \n",
      "graphviz-2.38        | 29.3 MB   | 9          |  10% \n",
      "graphviz-2.38        | 29.3 MB   | 9          |  10% \n",
      "graphviz-2.38        | 29.3 MB   | 9          |  10% \n",
      "graphviz-2.38        | 29.3 MB   | 9          |  10% \n",
      "graphviz-2.38        | 29.3 MB   | #          |  10% \n",
      "graphviz-2.38        | 29.3 MB   | #          |  10% \n",
      "graphviz-2.38        | 29.3 MB   | #          |  10% \n",
      "graphviz-2.38        | 29.3 MB   | #          |  10% \n",
      "graphviz-2.38        | 29.3 MB   | #          |  11% \n",
      "graphviz-2.38        | 29.3 MB   | #          |  11% \n",
      "graphviz-2.38        | 29.3 MB   | #          |  11% \n",
      "graphviz-2.38        | 29.3 MB   | #          |  11% \n",
      "graphviz-2.38        | 29.3 MB   | #          |  11% \n",
      "graphviz-2.38        | 29.3 MB   | #          |  11% \n",
      "graphviz-2.38        | 29.3 MB   | #1         |  11% \n",
      "graphviz-2.38        | 29.3 MB   | #1         |  11% \n",
      "graphviz-2.38        | 29.3 MB   | #1         |  11% \n",
      "graphviz-2.38        | 29.3 MB   | #1         |  11% \n",
      "graphviz-2.38        | 29.3 MB   | #1         |  11% \n",
      "graphviz-2.38        | 29.3 MB   | #1         |  12% \n",
      "graphviz-2.38        | 29.3 MB   | #1         |  12% \n",
      "graphviz-2.38        | 29.3 MB   | #1         |  12% \n",
      "graphviz-2.38        | 29.3 MB   | #1         |  12% \n",
      "graphviz-2.38        | 29.3 MB   | #1         |  12% \n",
      "graphviz-2.38        | 29.3 MB   | #2         |  12% \n",
      "graphviz-2.38        | 29.3 MB   | #2         |  12% \n",
      "graphviz-2.38        | 29.3 MB   | #2         |  12% \n",
      "graphviz-2.38        | 29.3 MB   | #2         |  12% \n",
      "graphviz-2.38        | 29.3 MB   | #2         |  12% \n",
      "graphviz-2.38        | 29.3 MB   | #2         |  13% \n",
      "graphviz-2.38        | 29.3 MB   | #2         |  13% \n",
      "graphviz-2.38        | 29.3 MB   | #2         |  13% \n",
      "graphviz-2.38        | 29.3 MB   | #2         |  13% \n",
      "graphviz-2.38        | 29.3 MB   | #2         |  13% \n",
      "graphviz-2.38        | 29.3 MB   | #2         |  13% \n",
      "graphviz-2.38        | 29.3 MB   | #3         |  13% \n",
      "graphviz-2.38        | 29.3 MB   | #3         |  13% \n",
      "graphviz-2.38        | 29.3 MB   | #3         |  13% \n",
      "graphviz-2.38        | 29.3 MB   | #3         |  13% \n",
      "graphviz-2.38        | 29.3 MB   | #3         |  13% \n",
      "graphviz-2.38        | 29.3 MB   | #3         |  13% \n",
      "graphviz-2.38        | 29.3 MB   | #3         |  14% \n",
      "graphviz-2.38        | 29.3 MB   | #3         |  14% \n",
      "graphviz-2.38        | 29.3 MB   | #3         |  14% \n",
      "graphviz-2.38        | 29.3 MB   | #3         |  14% \n",
      "graphviz-2.38        | 29.3 MB   | #3         |  14% \n",
      "graphviz-2.38        | 29.3 MB   | #3         |  14% \n",
      "graphviz-2.38        | 29.3 MB   | #4         |  14% \n",
      "graphviz-2.38        | 29.3 MB   | #4         |  14% \n",
      "graphviz-2.38        | 29.3 MB   | #4         |  14% \n",
      "graphviz-2.38        | 29.3 MB   | #4         |  14% \n",
      "graphviz-2.38        | 29.3 MB   | #4         |  14% \n",
      "graphviz-2.38        | 29.3 MB   | #4         |  15% \n",
      "graphviz-2.38        | 29.3 MB   | #4         |  15% \n",
      "graphviz-2.38        | 29.3 MB   | #4         |  15% \n",
      "graphviz-2.38        | 29.3 MB   | #4         |  15% \n",
      "graphviz-2.38        | 29.3 MB   | #4         |  15% \n",
      "graphviz-2.38        | 29.3 MB   | #5         |  15% \n",
      "graphviz-2.38        | 29.3 MB   | #5         |  15% \n",
      "graphviz-2.38        | 29.3 MB   | #5         |  15% \n",
      "graphviz-2.38        | 29.3 MB   | #5         |  15% \n",
      "graphviz-2.38        | 29.3 MB   | #5         |  15% \n",
      "graphviz-2.38        | 29.3 MB   | #5         |  16% \n",
      "graphviz-2.38        | 29.3 MB   | #5         |  16% \n",
      "graphviz-2.38        | 29.3 MB   | #5         |  16% \n",
      "graphviz-2.38        | 29.3 MB   | #5         |  16% \n",
      "graphviz-2.38        | 29.3 MB   | #5         |  16% \n",
      "graphviz-2.38        | 29.3 MB   | #5         |  16% \n",
      "graphviz-2.38        | 29.3 MB   | #6         |  16% \n",
      "graphviz-2.38        | 29.3 MB   | #6         |  16% \n",
      "graphviz-2.38        | 29.3 MB   | #6         |  16% \n",
      "graphviz-2.38        | 29.3 MB   | #6         |  16% \n",
      "graphviz-2.38        | 29.3 MB   | #6         |  16% \n",
      "graphviz-2.38        | 29.3 MB   | #6         |  16% \n",
      "graphviz-2.38        | 29.3 MB   | #6         |  16% \n",
      "graphviz-2.38        | 29.3 MB   | #6         |  17% \n",
      "graphviz-2.38        | 29.3 MB   | #6         |  17% \n",
      "graphviz-2.38        | 29.3 MB   | #6         |  17% \n",
      "graphviz-2.38        | 29.3 MB   | #6         |  17% \n",
      "graphviz-2.38        | 29.3 MB   | #6         |  17% \n",
      "graphviz-2.38        | 29.3 MB   | #6         |  17% \n",
      "graphviz-2.38        | 29.3 MB   | #7         |  17% \n",
      "graphviz-2.38        | 29.3 MB   | #7         |  17% \n",
      "graphviz-2.38        | 29.3 MB   | #7         |  17% \n",
      "graphviz-2.38        | 29.3 MB   | #7         |  17% \n",
      "graphviz-2.38        | 29.3 MB   | #7         |  17% \n",
      "graphviz-2.38        | 29.3 MB   | #7         |  17% \n",
      "graphviz-2.38        | 29.3 MB   | #7         |  18% \n",
      "graphviz-2.38        | 29.3 MB   | #7         |  18% \n",
      "graphviz-2.38        | 29.3 MB   | #7         |  18% \n",
      "graphviz-2.38        | 29.3 MB   | #7         |  18% \n",
      "graphviz-2.38        | 29.3 MB   | #7         |  18% \n",
      "graphviz-2.38        | 29.3 MB   | #8         |  18% \n",
      "graphviz-2.38        | 29.3 MB   | #8         |  18% \n",
      "graphviz-2.38        | 29.3 MB   | #8         |  18% \n",
      "graphviz-2.38        | 29.3 MB   | #8         |  18% \n",
      "graphviz-2.38        | 29.3 MB   | #8         |  18% \n",
      "graphviz-2.38        | 29.3 MB   | #8         |  18% \n",
      "graphviz-2.38        | 29.3 MB   | #8         |  19% \n",
      "graphviz-2.38        | 29.3 MB   | #8         |  19% \n",
      "graphviz-2.38        | 29.3 MB   | #8         |  19% \n",
      "graphviz-2.38        | 29.3 MB   | #8         |  19% \n",
      "graphviz-2.38        | 29.3 MB   | #8         |  19% \n",
      "graphviz-2.38        | 29.3 MB   | #8         |  19% \n",
      "graphviz-2.38        | 29.3 MB   | #8         |  19% \n",
      "graphviz-2.38        | 29.3 MB   | #9         |  19% \n",
      "graphviz-2.38        | 29.3 MB   | #9         |  19% \n",
      "graphviz-2.38        | 29.3 MB   | #9         |  19% \n",
      "graphviz-2.38        | 29.3 MB   | #9         |  19% \n",
      "graphviz-2.38        | 29.3 MB   | #9         |  19% \n",
      "graphviz-2.38        | 29.3 MB   | #9         |  19% \n",
      "graphviz-2.38        | 29.3 MB   | #9         |  20% \n",
      "graphviz-2.38        | 29.3 MB   | #9         |  20% \n",
      "graphviz-2.38        | 29.3 MB   | #9         |  20% \n",
      "graphviz-2.38        | 29.3 MB   | #9         |  20% \n",
      "graphviz-2.38        | 29.3 MB   | ##         |  20% \n",
      "graphviz-2.38        | 29.3 MB   | ##         |  20% \n",
      "graphviz-2.38        | 29.3 MB   | ##         |  20% \n",
      "graphviz-2.38        | 29.3 MB   | ##         |  20% \n",
      "graphviz-2.38        | 29.3 MB   | ##         |  20% \n",
      "graphviz-2.38        | 29.3 MB   | ##         |  21% \n",
      "graphviz-2.38        | 29.3 MB   | ##         |  21% \n",
      "graphviz-2.38        | 29.3 MB   | ##         |  21% \n",
      "graphviz-2.38        | 29.3 MB   | ##         |  21% \n",
      "graphviz-2.38        | 29.3 MB   | ##         |  21% \n",
      "graphviz-2.38        | 29.3 MB   | ##1        |  21% \n",
      "graphviz-2.38        | 29.3 MB   | ##1        |  21% \n",
      "graphviz-2.38        | 29.3 MB   | ##1        |  21% \n",
      "graphviz-2.38        | 29.3 MB   | ##1        |  21% \n",
      "graphviz-2.38        | 29.3 MB   | ##1        |  21% \n",
      "graphviz-2.38        | 29.3 MB   | ##1        |  21% \n",
      "graphviz-2.38        | 29.3 MB   | ##1        |  21% \n",
      "graphviz-2.38        | 29.3 MB   | ##1        |  22% \n",
      "graphviz-2.38        | 29.3 MB   | ##1        |  22% \n",
      "graphviz-2.38        | 29.3 MB   | ##1        |  22% \n",
      "graphviz-2.38        | 29.3 MB   | ##1        |  22% \n",
      "graphviz-2.38        | 29.3 MB   | ##1        |  22% \n",
      "graphviz-2.38        | 29.3 MB   | ##2        |  22% \n",
      "graphviz-2.38        | 29.3 MB   | ##2        |  22% \n",
      "graphviz-2.38        | 29.3 MB   | ##2        |  22% \n",
      "graphviz-2.38        | 29.3 MB   | ##2        |  22% \n",
      "graphviz-2.38        | 29.3 MB   | ##2        |  22% \n",
      "graphviz-2.38        | 29.3 MB   | ##2        |  23% \n",
      "graphviz-2.38        | 29.3 MB   | ##2        |  23% \n",
      "graphviz-2.38        | 29.3 MB   | ##2        |  23% \n",
      "graphviz-2.38        | 29.3 MB   | ##2        |  23% \n",
      "graphviz-2.38        | 29.3 MB   | ##2        |  23% \n",
      "graphviz-2.38        | 29.3 MB   | ##3        |  23% \n",
      "graphviz-2.38        | 29.3 MB   | ##3        |  23% \n",
      "graphviz-2.38        | 29.3 MB   | ##3        |  23% \n",
      "graphviz-2.38        | 29.3 MB   | ##3        |  23% \n",
      "graphviz-2.38        | 29.3 MB   | ##3        |  24% \n",
      "graphviz-2.38        | 29.3 MB   | ##3        |  24% \n",
      "graphviz-2.38        | 29.3 MB   | ##3        |  24% \n",
      "graphviz-2.38        | 29.3 MB   | ##3        |  24% \n",
      "graphviz-2.38        | 29.3 MB   | ##3        |  24% \n",
      "graphviz-2.38        | 29.3 MB   | ##3        |  24% \n",
      "graphviz-2.38        | 29.3 MB   | ##4        |  24% \n",
      "graphviz-2.38        | 29.3 MB   | ##4        |  24% \n",
      "graphviz-2.38        | 29.3 MB   | ##4        |  24% \n",
      "graphviz-2.38        | 29.3 MB   | ##4        |  24% \n",
      "graphviz-2.38        | 29.3 MB   | ##4        |  24% \n",
      "graphviz-2.38        | 29.3 MB   | ##4        |  24% \n",
      "graphviz-2.38        | 29.3 MB   | ##4        |  25% \n",
      "graphviz-2.38        | 29.3 MB   | ##4        |  25% \n",
      "graphviz-2.38        | 29.3 MB   | ##4        |  25% \n",
      "graphviz-2.38        | 29.3 MB   | ##4        |  25% \n",
      "graphviz-2.38        | 29.3 MB   | ##4        |  25% \n",
      "graphviz-2.38        | 29.3 MB   | ##5        |  25% \n",
      "graphviz-2.38        | 29.3 MB   | ##5        |  25% \n",
      "graphviz-2.38        | 29.3 MB   | ##5        |  25% \n",
      "graphviz-2.38        | 29.3 MB   | ##5        |  25% \n",
      "graphviz-2.38        | 29.3 MB   | ##5        |  25% \n",
      "graphviz-2.38        | 29.3 MB   | ##5        |  25% \n",
      "graphviz-2.38        | 29.3 MB   | ##5        |  25% \n",
      "graphviz-2.38        | 29.3 MB   | ##5        |  26% \n",
      "graphviz-2.38        | 29.3 MB   | ##5        |  26% \n",
      "graphviz-2.38        | 29.3 MB   | ##5        |  26% \n",
      "graphviz-2.38        | 29.3 MB   | ##5        |  26% \n",
      "graphviz-2.38        | 29.3 MB   | ##5        |  26% \n",
      "graphviz-2.38        | 29.3 MB   | ##6        |  26% \n",
      "graphviz-2.38        | 29.3 MB   | ##6        |  26% \n",
      "graphviz-2.38        | 29.3 MB   | ##6        |  26% \n",
      "graphviz-2.38        | 29.3 MB   | ##6        |  26% \n",
      "graphviz-2.38        | 29.3 MB   | ##6        |  26% \n",
      "graphviz-2.38        | 29.3 MB   | ##6        |  26% \n",
      "graphviz-2.38        | 29.3 MB   | ##6        |  27% \n",
      "graphviz-2.38        | 29.3 MB   | ##6        |  27% \n",
      "graphviz-2.38        | 29.3 MB   | ##6        |  27% \n",
      "graphviz-2.38        | 29.3 MB   | ##6        |  27% \n",
      "graphviz-2.38        | 29.3 MB   | ##6        |  27% \n",
      "graphviz-2.38        | 29.3 MB   | ##6        |  27% \n",
      "graphviz-2.38        | 29.3 MB   | ##7        |  27% \n",
      "graphviz-2.38        | 29.3 MB   | ##7        |  27% \n",
      "graphviz-2.38        | 29.3 MB   | ##7        |  27% \n",
      "graphviz-2.38        | 29.3 MB   | ##7        |  27% \n",
      "graphviz-2.38        | 29.3 MB   | ##7        |  27% \n",
      "graphviz-2.38        | 29.3 MB   | ##7        |  27% \n",
      "graphviz-2.38        | 29.3 MB   | ##7        |  28% \n",
      "graphviz-2.38        | 29.3 MB   | ##7        |  28% \n",
      "graphviz-2.38        | 29.3 MB   | ##7        |  28% \n",
      "graphviz-2.38        | 29.3 MB   | ##7        |  28% \n",
      "graphviz-2.38        | 29.3 MB   | ##7        |  28% \n",
      "graphviz-2.38        | 29.3 MB   | ##7        |  28% \n",
      "graphviz-2.38        | 29.3 MB   | ##8        |  28% \n",
      "graphviz-2.38        | 29.3 MB   | ##8        |  28% \n",
      "graphviz-2.38        | 29.3 MB   | ##8        |  28% \n",
      "graphviz-2.38        | 29.3 MB   | ##8        |  28% \n",
      "graphviz-2.38        | 29.3 MB   | ##8        |  28% \n",
      "graphviz-2.38        | 29.3 MB   | ##8        |  28% \n",
      "graphviz-2.38        | 29.3 MB   | ##8        |  28% \n",
      "graphviz-2.38        | 29.3 MB   | ##8        |  29% \n",
      "graphviz-2.38        | 29.3 MB   | ##8        |  29% \n",
      "graphviz-2.38        | 29.3 MB   | ##8        |  29% \n",
      "graphviz-2.38        | 29.3 MB   | ##8        |  29% \n",
      "graphviz-2.38        | 29.3 MB   | ##9        |  29% \n",
      "graphviz-2.38        | 29.3 MB   | ##9        |  29% \n",
      "graphviz-2.38        | 29.3 MB   | ##9        |  29% \n",
      "graphviz-2.38        | 29.3 MB   | ##9        |  29% \n",
      "graphviz-2.38        | 29.3 MB   | ##9        |  29% \n",
      "graphviz-2.38        | 29.3 MB   | ##9        |  30% \n",
      "graphviz-2.38        | 29.3 MB   | ##9        |  30% \n",
      "graphviz-2.38        | 29.3 MB   | ##9        |  30% \n",
      "graphviz-2.38        | 29.3 MB   | ##9        |  30% \n",
      "graphviz-2.38        | 29.3 MB   | ##9        |  30% \n",
      "graphviz-2.38        | 29.3 MB   | ###        |  30% \n",
      "graphviz-2.38        | 29.3 MB   | ###        |  30% \n",
      "graphviz-2.38        | 29.3 MB   | ###        |  30% \n",
      "graphviz-2.38        | 29.3 MB   | ###        |  30% \n",
      "graphviz-2.38        | 29.3 MB   | ###        |  30% \n",
      "graphviz-2.38        | 29.3 MB   | ###        |  31% \n",
      "graphviz-2.38        | 29.3 MB   | ###        |  31% \n",
      "graphviz-2.38        | 29.3 MB   | ###        |  31% \n",
      "graphviz-2.38        | 29.3 MB   | ###        |  31% \n",
      "graphviz-2.38        | 29.3 MB   | ###        |  31% \n",
      "graphviz-2.38        | 29.3 MB   | ###1       |  31% \n",
      "graphviz-2.38        | 29.3 MB   | ###1       |  31% \n",
      "graphviz-2.38        | 29.3 MB   | ###1       |  31% \n",
      "graphviz-2.38        | 29.3 MB   | ###1       |  31% \n",
      "graphviz-2.38        | 29.3 MB   | ###1       |  31% \n",
      "graphviz-2.38        | 29.3 MB   | ###1       |  31% \n",
      "graphviz-2.38        | 29.3 MB   | ###1       |  31% \n",
      "graphviz-2.38        | 29.3 MB   | ###1       |  32% \n",
      "graphviz-2.38        | 29.3 MB   | ###1       |  32% \n",
      "graphviz-2.38        | 29.3 MB   | ###1       |  32% \n",
      "graphviz-2.38        | 29.3 MB   | ###1       |  32% \n",
      "graphviz-2.38        | 29.3 MB   | ###1       |  32% \n",
      "graphviz-2.38        | 29.3 MB   | ###1       |  32% \n",
      "graphviz-2.38        | 29.3 MB   | ###2       |  32% \n",
      "graphviz-2.38        | 29.3 MB   | ###2       |  32% \n",
      "graphviz-2.38        | 29.3 MB   | ###2       |  32% \n",
      "graphviz-2.38        | 29.3 MB   | ###2       |  32% \n",
      "graphviz-2.38        | 29.3 MB   | ###2       |  32% \n",
      "graphviz-2.38        | 29.3 MB   | ###2       |  32% \n",
      "graphviz-2.38        | 29.3 MB   | ###2       |  33% \n",
      "graphviz-2.38        | 29.3 MB   | ###2       |  33% \n",
      "graphviz-2.38        | 29.3 MB   | ###2       |  33% \n",
      "graphviz-2.38        | 29.3 MB   | ###2       |  33% \n",
      "graphviz-2.38        | 29.3 MB   | ###2       |  33% \n",
      "graphviz-2.38        | 29.3 MB   | ###2       |  33% \n",
      "graphviz-2.38        | 29.3 MB   | ###3       |  33% \n",
      "graphviz-2.38        | 29.3 MB   | ###3       |  33% \n",
      "graphviz-2.38        | 29.3 MB   | ###3       |  33% \n",
      "graphviz-2.38        | 29.3 MB   | ###3       |  33% \n",
      "graphviz-2.38        | 29.3 MB   | ###3       |  33% \n",
      "graphviz-2.38        | 29.3 MB   | ###3       |  33% \n",
      "graphviz-2.38        | 29.3 MB   | ###3       |  34% \n",
      "graphviz-2.38        | 29.3 MB   | ###3       |  34% \n",
      "graphviz-2.38        | 29.3 MB   | ###3       |  34% \n",
      "graphviz-2.38        | 29.3 MB   | ###3       |  34% \n",
      "graphviz-2.38        | 29.3 MB   | ###3       |  34% \n",
      "graphviz-2.38        | 29.3 MB   | ###3       |  34% \n",
      "graphviz-2.38        | 29.3 MB   | ###4       |  34% \n",
      "graphviz-2.38        | 29.3 MB   | ###4       |  34% \n",
      "graphviz-2.38        | 29.3 MB   | ###4       |  34% \n",
      "graphviz-2.38        | 29.3 MB   | ###4       |  34% \n",
      "graphviz-2.38        | 29.3 MB   | ###4       |  34% \n",
      "graphviz-2.38        | 29.3 MB   | ###4       |  35% \n",
      "graphviz-2.38        | 29.3 MB   | ###4       |  35% \n",
      "graphviz-2.38        | 29.3 MB   | ###4       |  35% \n",
      "graphviz-2.38        | 29.3 MB   | ###4       |  35% \n",
      "graphviz-2.38        | 29.3 MB   | ###4       |  35% \n",
      "graphviz-2.38        | 29.3 MB   | ###4       |  35% \n",
      "graphviz-2.38        | 29.3 MB   | ###4       |  35% \n",
      "graphviz-2.38        | 29.3 MB   | ###5       |  35% \n",
      "graphviz-2.38        | 29.3 MB   | ###5       |  35% \n",
      "graphviz-2.38        | 29.3 MB   | ###5       |  35% \n",
      "graphviz-2.38        | 29.3 MB   | ###5       |  35% \n",
      "graphviz-2.38        | 29.3 MB   | ###5       |  35% \n",
      "graphviz-2.38        | 29.3 MB   | ###5       |  36% \n",
      "graphviz-2.38        | 29.3 MB   | ###5       |  36% \n",
      "graphviz-2.38        | 29.3 MB   | ###5       |  36% \n",
      "graphviz-2.38        | 29.3 MB   | ###5       |  36% \n",
      "graphviz-2.38        | 29.3 MB   | ###5       |  36% \n",
      "graphviz-2.38        | 29.3 MB   | ###5       |  36% \n",
      "graphviz-2.38        | 29.3 MB   | ###5       |  36% \n",
      "graphviz-2.38        | 29.3 MB   | ###5       |  36% \n",
      "graphviz-2.38        | 29.3 MB   | ###6       |  36% \n",
      "graphviz-2.38        | 29.3 MB   | ###6       |  36% \n",
      "graphviz-2.38        | 29.3 MB   | ###6       |  36% \n",
      "graphviz-2.38        | 29.3 MB   | ###6       |  36% \n",
      "graphviz-2.38        | 29.3 MB   | ###6       |  36% \n",
      "graphviz-2.38        | 29.3 MB   | ###6       |  36% \n",
      "graphviz-2.38        | 29.3 MB   | ###6       |  37% \n",
      "graphviz-2.38        | 29.3 MB   | ###6       |  37% \n",
      "graphviz-2.38        | 29.3 MB   | ###6       |  37% \n",
      "graphviz-2.38        | 29.3 MB   | ###6       |  37% \n",
      "graphviz-2.38        | 29.3 MB   | ###6       |  37% \n",
      "graphviz-2.38        | 29.3 MB   | ###7       |  37% \n",
      "graphviz-2.38        | 29.3 MB   | ###7       |  37% \n",
      "graphviz-2.38        | 29.3 MB   | ###7       |  37% \n",
      "graphviz-2.38        | 29.3 MB   | ###7       |  37% \n",
      "graphviz-2.38        | 29.3 MB   | ###7       |  37% \n",
      "graphviz-2.38        | 29.3 MB   | ###7       |  38% \n",
      "graphviz-2.38        | 29.3 MB   | ###7       |  38% \n",
      "graphviz-2.38        | 29.3 MB   | ###7       |  38% \n",
      "graphviz-2.38        | 29.3 MB   | ###7       |  38% \n",
      "graphviz-2.38        | 29.3 MB   | ###7       |  38% \n",
      "graphviz-2.38        | 29.3 MB   | ###7       |  38% \n",
      "graphviz-2.38        | 29.3 MB   | ###8       |  38% \n",
      "graphviz-2.38        | 29.3 MB   | ###8       |  38% \n",
      "graphviz-2.38        | 29.3 MB   | ###8       |  38% \n",
      "graphviz-2.38        | 29.3 MB   | ###8       |  38% \n",
      "graphviz-2.38        | 29.3 MB   | ###8       |  38% \n",
      "graphviz-2.38        | 29.3 MB   | ###8       |  38% \n",
      "graphviz-2.38        | 29.3 MB   | ###8       |  39% \n",
      "graphviz-2.38        | 29.3 MB   | ###8       |  39% \n",
      "graphviz-2.38        | 29.3 MB   | ###8       |  39% \n",
      "graphviz-2.38        | 29.3 MB   | ###8       |  39% \n",
      "graphviz-2.38        | 29.3 MB   | ###8       |  39% \n",
      "graphviz-2.38        | 29.3 MB   | ###9       |  39% \n",
      "graphviz-2.38        | 29.3 MB   | ###9       |  39% \n",
      "graphviz-2.38        | 29.3 MB   | ###9       |  39% \n",
      "graphviz-2.38        | 29.3 MB   | ###9       |  39% \n",
      "graphviz-2.38        | 29.3 MB   | ###9       |  40% \n",
      "graphviz-2.38        | 29.3 MB   | ###9       |  40% \n",
      "graphviz-2.38        | 29.3 MB   | ###9       |  40% \n",
      "graphviz-2.38        | 29.3 MB   | ###9       |  40% \n",
      "graphviz-2.38        | 29.3 MB   | ###9       |  40% \n",
      "graphviz-2.38        | 29.3 MB   | ####       |  40% \n",
      "graphviz-2.38        | 29.3 MB   | ####       |  40% \n",
      "graphviz-2.38        | 29.3 MB   | ####       |  40% \n",
      "graphviz-2.38        | 29.3 MB   | ####       |  40% \n",
      "graphviz-2.38        | 29.3 MB   | ####       |  40% \n",
      "graphviz-2.38        | 29.3 MB   | ####       |  40% \n",
      "graphviz-2.38        | 29.3 MB   | ####       |  41% \n",
      "graphviz-2.38        | 29.3 MB   | ####       |  41% \n",
      "graphviz-2.38        | 29.3 MB   | ####       |  41% \n",
      "graphviz-2.38        | 29.3 MB   | ####       |  41% \n",
      "graphviz-2.38        | 29.3 MB   | ####1      |  41% \n",
      "graphviz-2.38        | 29.3 MB   | ####1      |  41% \n",
      "graphviz-2.38        | 29.3 MB   | ####1      |  41% \n",
      "graphviz-2.38        | 29.3 MB   | ####1      |  41% \n",
      "graphviz-2.38        | 29.3 MB   | ####1      |  41% \n",
      "graphviz-2.38        | 29.3 MB   | ####1      |  41% \n",
      "graphviz-2.38        | 29.3 MB   | ####1      |  41% \n",
      "graphviz-2.38        | 29.3 MB   | ####1      |  42% \n",
      "graphviz-2.38        | 29.3 MB   | ####1      |  42% \n",
      "graphviz-2.38        | 29.3 MB   | ####1      |  42% \n",
      "graphviz-2.38        | 29.3 MB   | ####1      |  42% \n",
      "graphviz-2.38        | 29.3 MB   | ####1      |  42% \n",
      "graphviz-2.38        | 29.3 MB   | ####2      |  42% \n",
      "graphviz-2.38        | 29.3 MB   | ####2      |  42% \n",
      "graphviz-2.38        | 29.3 MB   | ####2      |  42% \n",
      "graphviz-2.38        | 29.3 MB   | ####2      |  42% \n",
      "graphviz-2.38        | 29.3 MB   | ####2      |  42% \n",
      "graphviz-2.38        | 29.3 MB   | ####2      |  43% \n",
      "graphviz-2.38        | 29.3 MB   | ####2      |  43% \n",
      "graphviz-2.38        | 29.3 MB   | ####2      |  43% \n",
      "graphviz-2.38        | 29.3 MB   | ####2      |  43% \n",
      "graphviz-2.38        | 29.3 MB   | ####2      |  43% \n",
      "graphviz-2.38        | 29.3 MB   | ####3      |  43% \n",
      "graphviz-2.38        | 29.3 MB   | ####3      |  43% \n",
      "graphviz-2.38        | 29.3 MB   | ####3      |  43% \n",
      "graphviz-2.38        | 29.3 MB   | ####3      |  43% \n",
      "graphviz-2.38        | 29.3 MB   | ####3      |  43% \n",
      "graphviz-2.38        | 29.3 MB   | ####3      |  44% \n",
      "graphviz-2.38        | 29.3 MB   | ####3      |  44% \n",
      "graphviz-2.38        | 29.3 MB   | ####3      |  44% \n",
      "graphviz-2.38        | 29.3 MB   | ####3      |  44% \n",
      "graphviz-2.38        | 29.3 MB   | ####3      |  44% \n",
      "graphviz-2.38        | 29.3 MB   | ####4      |  44% \n",
      "graphviz-2.38        | 29.3 MB   | ####4      |  44% \n",
      "graphviz-2.38        | 29.3 MB   | ####4      |  44% \n",
      "graphviz-2.38        | 29.3 MB   | ####4      |  44% \n",
      "graphviz-2.38        | 29.3 MB   | ####4      |  44% \n",
      "graphviz-2.38        | 29.3 MB   | ####4      |  45% \n",
      "graphviz-2.38        | 29.3 MB   | ####4      |  45% \n",
      "graphviz-2.38        | 29.3 MB   | ####4      |  45% \n",
      "graphviz-2.38        | 29.3 MB   | ####4      |  45% \n",
      "graphviz-2.38        | 29.3 MB   | ####4      |  45% \n",
      "graphviz-2.38        | 29.3 MB   | ####5      |  45% \n",
      "graphviz-2.38        | 29.3 MB   | ####5      |  45% \n",
      "graphviz-2.38        | 29.3 MB   | ####5      |  45% \n",
      "graphviz-2.38        | 29.3 MB   | ####5      |  45% \n",
      "graphviz-2.38        | 29.3 MB   | ####5      |  45% \n",
      "graphviz-2.38        | 29.3 MB   | ####5      |  45% \n",
      "graphviz-2.38        | 29.3 MB   | ####5      |  45% \n",
      "graphviz-2.38        | 29.3 MB   | ####5      |  46% \n",
      "graphviz-2.38        | 29.3 MB   | ####5      |  46% \n",
      "graphviz-2.38        | 29.3 MB   | ####5      |  46% \n",
      "graphviz-2.38        | 29.3 MB   | ####5      |  46% \n",
      "graphviz-2.38        | 29.3 MB   | ####5      |  46% \n",
      "graphviz-2.38        | 29.3 MB   | ####5      |  46% \n",
      "graphviz-2.38        | 29.3 MB   | ####6      |  46% \n",
      "graphviz-2.38        | 29.3 MB   | ####6      |  46% \n",
      "graphviz-2.38        | 29.3 MB   | ####6      |  46% \n",
      "graphviz-2.38        | 29.3 MB   | ####6      |  46% \n",
      "graphviz-2.38        | 29.3 MB   | ####6      |  46% \n",
      "graphviz-2.38        | 29.3 MB   | ####6      |  47% \n",
      "graphviz-2.38        | 29.3 MB   | ####6      |  47% \n",
      "graphviz-2.38        | 29.3 MB   | ####6      |  47% \n",
      "graphviz-2.38        | 29.3 MB   | ####6      |  47% \n",
      "graphviz-2.38        | 29.3 MB   | ####6      |  47% \n",
      "graphviz-2.38        | 29.3 MB   | ####6      |  47% \n",
      "graphviz-2.38        | 29.3 MB   | ####7      |  47% \n",
      "graphviz-2.38        | 29.3 MB   | ####7      |  47% \n",
      "graphviz-2.38        | 29.3 MB   | ####7      |  47% \n",
      "graphviz-2.38        | 29.3 MB   | ####7      |  47% \n",
      "graphviz-2.38        | 29.3 MB   | ####7      |  47% \n",
      "graphviz-2.38        | 29.3 MB   | ####7      |  47% \n",
      "graphviz-2.38        | 29.3 MB   | ####7      |  48% \n",
      "graphviz-2.38        | 29.3 MB   | ####7      |  48% \n",
      "graphviz-2.38        | 29.3 MB   | ####7      |  48% \n",
      "graphviz-2.38        | 29.3 MB   | ####7      |  48% \n",
      "graphviz-2.38        | 29.3 MB   | ####7      |  48% \n",
      "graphviz-2.38        | 29.3 MB   | ####8      |  48% \n",
      "graphviz-2.38        | 29.3 MB   | ####8      |  48% \n",
      "graphviz-2.38        | 29.3 MB   | ####8      |  48% \n",
      "graphviz-2.38        | 29.3 MB   | ####8      |  48% \n",
      "graphviz-2.38        | 29.3 MB   | ####8      |  48% \n",
      "graphviz-2.38        | 29.3 MB   | ####8      |  48% \n",
      "graphviz-2.38        | 29.3 MB   | ####8      |  49% \n",
      "graphviz-2.38        | 29.3 MB   | ####8      |  49% \n",
      "graphviz-2.38        | 29.3 MB   | ####8      |  49% \n",
      "graphviz-2.38        | 29.3 MB   | ####8      |  49% \n",
      "graphviz-2.38        | 29.3 MB   | ####8      |  49% \n",
      "graphviz-2.38        | 29.3 MB   | ####8      |  49% \n",
      "graphviz-2.38        | 29.3 MB   | ####9      |  49% \n",
      "graphviz-2.38        | 29.3 MB   | ####9      |  49% \n",
      "graphviz-2.38        | 29.3 MB   | ####9      |  49% \n",
      "graphviz-2.38        | 29.3 MB   | ####9      |  49% \n",
      "graphviz-2.38        | 29.3 MB   | ####9      |  49% \n",
      "graphviz-2.38        | 29.3 MB   | ####9      |  49% \n",
      "graphviz-2.38        | 29.3 MB   | ####9      |  49% \n",
      "graphviz-2.38        | 29.3 MB   | ####9      |  49% \n",
      "graphviz-2.38        | 29.3 MB   | ####9      |  50% \n",
      "graphviz-2.38        | 29.3 MB   | ####9      |  50% \n",
      "graphviz-2.38        | 29.3 MB   | ####9      |  50% \n",
      "graphviz-2.38        | 29.3 MB   | ####9      |  50% \n",
      "graphviz-2.38        | 29.3 MB   | ####9      |  50% \n",
      "graphviz-2.38        | 29.3 MB   | ####9      |  50% \n",
      "graphviz-2.38        | 29.3 MB   | ####9      |  50% \n",
      "graphviz-2.38        | 29.3 MB   | ####9      |  50% \n",
      "graphviz-2.38        | 29.3 MB   | #####      |  50% \n",
      "graphviz-2.38        | 29.3 MB   | #####      |  50% \n",
      "graphviz-2.38        | 29.3 MB   | #####      |  50% \n",
      "graphviz-2.38        | 29.3 MB   | #####      |  50% \n",
      "graphviz-2.38        | 29.3 MB   | #####      |  50% \n",
      "graphviz-2.38        | 29.3 MB   | #####      |  50% \n",
      "graphviz-2.38        | 29.3 MB   | #####      |  50% \n",
      "graphviz-2.38        | 29.3 MB   | #####      |  50% \n",
      "graphviz-2.38        | 29.3 MB   | #####      |  51% \n",
      "graphviz-2.38        | 29.3 MB   | #####      |  51% \n",
      "graphviz-2.38        | 29.3 MB   | #####      |  51% \n",
      "graphviz-2.38        | 29.3 MB   | #####      |  51% \n",
      "graphviz-2.38        | 29.3 MB   | #####      |  51% \n",
      "graphviz-2.38        | 29.3 MB   | #####1     |  51% \n",
      "graphviz-2.38        | 29.3 MB   | #####1     |  51% \n",
      "graphviz-2.38        | 29.3 MB   | #####1     |  51% \n",
      "graphviz-2.38        | 29.3 MB   | #####1     |  51% \n",
      "graphviz-2.38        | 29.3 MB   | #####1     |  51% \n",
      "graphviz-2.38        | 29.3 MB   | #####1     |  51% \n",
      "graphviz-2.38        | 29.3 MB   | #####1     |  52% \n",
      "graphviz-2.38        | 29.3 MB   | #####1     |  52% \n",
      "graphviz-2.38        | 29.3 MB   | #####1     |  52% \n",
      "graphviz-2.38        | 29.3 MB   | #####1     |  52% \n",
      "graphviz-2.38        | 29.3 MB   | #####1     |  52% \n",
      "graphviz-2.38        | 29.3 MB   | #####1     |  52% \n",
      "graphviz-2.38        | 29.3 MB   | #####2     |  52% \n",
      "graphviz-2.38        | 29.3 MB   | #####2     |  52% \n",
      "graphviz-2.38        | 29.3 MB   | #####2     |  52% \n",
      "graphviz-2.38        | 29.3 MB   | #####2     |  52% \n",
      "graphviz-2.38        | 29.3 MB   | #####2     |  52% \n",
      "graphviz-2.38        | 29.3 MB   | #####2     |  52% \n",
      "graphviz-2.38        | 29.3 MB   | #####2     |  52% \n",
      "graphviz-2.38        | 29.3 MB   | #####2     |  53% \n",
      "graphviz-2.38        | 29.3 MB   | #####2     |  53% \n",
      "graphviz-2.38        | 29.3 MB   | #####2     |  53% \n",
      "graphviz-2.38        | 29.3 MB   | #####2     |  53% \n",
      "graphviz-2.38        | 29.3 MB   | #####2     |  53% \n",
      "graphviz-2.38        | 29.3 MB   | #####2     |  53% \n",
      "graphviz-2.38        | 29.3 MB   | #####3     |  53% \n",
      "graphviz-2.38        | 29.3 MB   | #####3     |  53% \n",
      "graphviz-2.38        | 29.3 MB   | #####3     |  53% \n",
      "graphviz-2.38        | 29.3 MB   | #####3     |  53% \n",
      "graphviz-2.38        | 29.3 MB   | #####3     |  53% \n",
      "graphviz-2.38        | 29.3 MB   | #####3     |  53% \n",
      "graphviz-2.38        | 29.3 MB   | #####3     |  54% \n",
      "graphviz-2.38        | 29.3 MB   | #####3     |  54% \n",
      "graphviz-2.38        | 29.3 MB   | #####3     |  54% \n",
      "graphviz-2.38        | 29.3 MB   | #####3     |  54% \n",
      "graphviz-2.38        | 29.3 MB   | #####4     |  54% \n",
      "graphviz-2.38        | 29.3 MB   | #####4     |  54% \n",
      "graphviz-2.38        | 29.3 MB   | #####4     |  54% \n",
      "graphviz-2.38        | 29.3 MB   | #####4     |  54% \n",
      "graphviz-2.38        | 29.3 MB   | #####4     |  54% \n",
      "graphviz-2.38        | 29.3 MB   | #####4     |  54% \n",
      "graphviz-2.38        | 29.3 MB   | #####4     |  55% \n",
      "graphviz-2.38        | 29.3 MB   | #####4     |  55% \n",
      "graphviz-2.38        | 29.3 MB   | #####4     |  55% \n",
      "graphviz-2.38        | 29.3 MB   | #####4     |  55% \n",
      "graphviz-2.38        | 29.3 MB   | #####4     |  55% \n",
      "graphviz-2.38        | 29.3 MB   | #####5     |  55% \n",
      "graphviz-2.38        | 29.3 MB   | #####5     |  55% \n",
      "graphviz-2.38        | 29.3 MB   | #####5     |  55% \n",
      "graphviz-2.38        | 29.3 MB   | #####5     |  55% \n",
      "graphviz-2.38        | 29.3 MB   | #####5     |  56% \n",
      "graphviz-2.38        | 29.3 MB   | #####5     |  56% \n",
      "graphviz-2.38        | 29.3 MB   | #####5     |  56% \n",
      "graphviz-2.38        | 29.3 MB   | #####5     |  56% \n",
      "graphviz-2.38        | 29.3 MB   | #####5     |  56% \n",
      "graphviz-2.38        | 29.3 MB   | #####5     |  56% \n",
      "graphviz-2.38        | 29.3 MB   | #####6     |  56% \n",
      "graphviz-2.38        | 29.3 MB   | #####6     |  56% \n",
      "graphviz-2.38        | 29.3 MB   | #####6     |  56% \n",
      "graphviz-2.38        | 29.3 MB   | #####6     |  56% \n",
      "graphviz-2.38        | 29.3 MB   | #####6     |  56% \n",
      "graphviz-2.38        | 29.3 MB   | #####6     |  56% \n",
      "graphviz-2.38        | 29.3 MB   | #####6     |  57% \n",
      "graphviz-2.38        | 29.3 MB   | #####6     |  57% \n",
      "graphviz-2.38        | 29.3 MB   | #####6     |  57% \n",
      "graphviz-2.38        | 29.3 MB   | #####6     |  57% \n",
      "graphviz-2.38        | 29.3 MB   | #####6     |  57% \n",
      "graphviz-2.38        | 29.3 MB   | #####6     |  57% \n",
      "graphviz-2.38        | 29.3 MB   | #####7     |  57% \n",
      "graphviz-2.38        | 29.3 MB   | #####7     |  57% \n",
      "graphviz-2.38        | 29.3 MB   | #####7     |  57% \n",
      "graphviz-2.38        | 29.3 MB   | #####7     |  57% \n",
      "graphviz-2.38        | 29.3 MB   | #####7     |  57% \n",
      "graphviz-2.38        | 29.3 MB   | #####7     |  57% \n",
      "graphviz-2.38        | 29.3 MB   | #####7     |  57% \n",
      "graphviz-2.38        | 29.3 MB   | #####7     |  58% \n",
      "graphviz-2.38        | 29.3 MB   | #####7     |  58% \n",
      "graphviz-2.38        | 29.3 MB   | #####7     |  58% \n",
      "graphviz-2.38        | 29.3 MB   | #####7     |  58% \n",
      "graphviz-2.38        | 29.3 MB   | #####7     |  58% \n",
      "graphviz-2.38        | 29.3 MB   | #####7     |  58% \n",
      "graphviz-2.38        | 29.3 MB   | #####8     |  58% \n",
      "graphviz-2.38        | 29.3 MB   | #####8     |  58% \n",
      "graphviz-2.38        | 29.3 MB   | #####8     |  58% \n",
      "graphviz-2.38        | 29.3 MB   | #####8     |  58% \n",
      "graphviz-2.38        | 29.3 MB   | #####8     |  58% \n",
      "graphviz-2.38        | 29.3 MB   | #####8     |  58% \n",
      "graphviz-2.38        | 29.3 MB   | #####8     |  59% \n",
      "graphviz-2.38        | 29.3 MB   | #####8     |  59% \n",
      "graphviz-2.38        | 29.3 MB   | #####8     |  59% \n",
      "graphviz-2.38        | 29.3 MB   | #####8     |  59% \n",
      "graphviz-2.38        | 29.3 MB   | #####8     |  59% \n",
      "graphviz-2.38        | 29.3 MB   | #####8     |  59% \n",
      "graphviz-2.38        | 29.3 MB   | #####9     |  59% \n",
      "graphviz-2.38        | 29.3 MB   | #####9     |  59% \n",
      "graphviz-2.38        | 29.3 MB   | #####9     |  59% \n",
      "graphviz-2.38        | 29.3 MB   | #####9     |  59% \n",
      "graphviz-2.38        | 29.3 MB   | #####9     |  59% \n",
      "graphviz-2.38        | 29.3 MB   | #####9     |  60% \n",
      "graphviz-2.38        | 29.3 MB   | #####9     |  60% \n",
      "graphviz-2.38        | 29.3 MB   | #####9     |  60% \n",
      "graphviz-2.38        | 29.3 MB   | #####9     |  60% \n",
      "graphviz-2.38        | 29.3 MB   | #####9     |  60% \n",
      "graphviz-2.38        | 29.3 MB   | #####9     |  60% \n",
      "graphviz-2.38        | 29.3 MB   | ######     |  60% \n",
      "graphviz-2.38        | 29.3 MB   | ######     |  60% \n",
      "graphviz-2.38        | 29.3 MB   | ######     |  60% \n",
      "graphviz-2.38        | 29.3 MB   | ######     |  60% \n",
      "graphviz-2.38        | 29.3 MB   | ######     |  60% \n",
      "graphviz-2.38        | 29.3 MB   | ######     |  61% \n",
      "graphviz-2.38        | 29.3 MB   | ######     |  61% \n",
      "graphviz-2.38        | 29.3 MB   | ######     |  61% \n",
      "graphviz-2.38        | 29.3 MB   | ######     |  61% \n",
      "graphviz-2.38        | 29.3 MB   | ######     |  61% \n",
      "graphviz-2.38        | 29.3 MB   | ######1    |  61% \n",
      "graphviz-2.38        | 29.3 MB   | ######1    |  61% \n",
      "graphviz-2.38        | 29.3 MB   | ######1    |  61% \n",
      "graphviz-2.38        | 29.3 MB   | ######1    |  61% \n",
      "graphviz-2.38        | 29.3 MB   | ######1    |  61% \n",
      "graphviz-2.38        | 29.3 MB   | ######1    |  62% \n",
      "graphviz-2.38        | 29.3 MB   | ######1    |  62% \n",
      "graphviz-2.38        | 29.3 MB   | ######1    |  62% \n",
      "graphviz-2.38        | 29.3 MB   | ######1    |  62% \n",
      "graphviz-2.38        | 29.3 MB   | ######1    |  62% \n",
      "graphviz-2.38        | 29.3 MB   | ######1    |  62% \n",
      "graphviz-2.38        | 29.3 MB   | ######2    |  62% \n",
      "graphviz-2.38        | 29.3 MB   | ######2    |  62% \n",
      "graphviz-2.38        | 29.3 MB   | ######2    |  62% \n",
      "graphviz-2.38        | 29.3 MB   | ######2    |  62% \n",
      "graphviz-2.38        | 29.3 MB   | ######2    |  62% \n",
      "graphviz-2.38        | 29.3 MB   | ######2    |  63% \n",
      "graphviz-2.38        | 29.3 MB   | ######2    |  63% \n",
      "graphviz-2.38        | 29.3 MB   | ######2    |  63% \n",
      "graphviz-2.38        | 29.3 MB   | ######2    |  63% \n",
      "graphviz-2.38        | 29.3 MB   | ######2    |  63% \n",
      "graphviz-2.38        | 29.3 MB   | ######3    |  63% \n",
      "graphviz-2.38        | 29.3 MB   | ######3    |  63% \n",
      "graphviz-2.38        | 29.3 MB   | ######3    |  63% \n",
      "graphviz-2.38        | 29.3 MB   | ######3    |  63% \n",
      "graphviz-2.38        | 29.3 MB   | ######3    |  63% \n",
      "graphviz-2.38        | 29.3 MB   | ######3    |  64% \n",
      "graphviz-2.38        | 29.3 MB   | ######3    |  64% \n",
      "graphviz-2.38        | 29.3 MB   | ######3    |  64% \n",
      "graphviz-2.38        | 29.3 MB   | ######3    |  64% \n",
      "graphviz-2.38        | 29.3 MB   | ######3    |  64% \n",
      "graphviz-2.38        | 29.3 MB   | ######3    |  64% \n",
      "graphviz-2.38        | 29.3 MB   | ######4    |  64% \n",
      "graphviz-2.38        | 29.3 MB   | ######4    |  64% \n",
      "graphviz-2.38        | 29.3 MB   | ######4    |  64% \n",
      "graphviz-2.38        | 29.3 MB   | ######4    |  64% \n",
      "graphviz-2.38        | 29.3 MB   | ######4    |  64% \n",
      "graphviz-2.38        | 29.3 MB   | ######4    |  64% \n",
      "graphviz-2.38        | 29.3 MB   | ######4    |  65% \n",
      "graphviz-2.38        | 29.3 MB   | ######4    |  65% \n",
      "graphviz-2.38        | 29.3 MB   | ######4    |  65% \n",
      "graphviz-2.38        | 29.3 MB   | ######4    |  65% \n",
      "graphviz-2.38        | 29.3 MB   | ######4    |  65% \n",
      "graphviz-2.38        | 29.3 MB   | ######4    |  65% \n",
      "graphviz-2.38        | 29.3 MB   | ######5    |  65% \n",
      "graphviz-2.38        | 29.3 MB   | ######5    |  65% \n",
      "graphviz-2.38        | 29.3 MB   | ######5    |  65% \n",
      "graphviz-2.38        | 29.3 MB   | ######5    |  65% \n",
      "graphviz-2.38        | 29.3 MB   | ######5    |  65% \n",
      "graphviz-2.38        | 29.3 MB   | ######5    |  65% \n",
      "graphviz-2.38        | 29.3 MB   | ######5    |  66% \n",
      "graphviz-2.38        | 29.3 MB   | ######5    |  66% \n",
      "graphviz-2.38        | 29.3 MB   | ######5    |  66% \n",
      "graphviz-2.38        | 29.3 MB   | ######5    |  66% \n",
      "graphviz-2.38        | 29.3 MB   | ######5    |  66% \n",
      "graphviz-2.38        | 29.3 MB   | ######6    |  66% \n",
      "graphviz-2.38        | 29.3 MB   | ######6    |  66% \n",
      "graphviz-2.38        | 29.3 MB   | ######6    |  66% \n",
      "graphviz-2.38        | 29.3 MB   | ######6    |  66% \n",
      "graphviz-2.38        | 29.3 MB   | ######6    |  67% \n",
      "graphviz-2.38        | 29.3 MB   | ######6    |  67% \n",
      "graphviz-2.38        | 29.3 MB   | ######6    |  67% \n",
      "graphviz-2.38        | 29.3 MB   | ######6    |  67% \n",
      "graphviz-2.38        | 29.3 MB   | ######6    |  67% \n",
      "graphviz-2.38        | 29.3 MB   | ######7    |  67% \n",
      "graphviz-2.38        | 29.3 MB   | ######7    |  67% \n",
      "graphviz-2.38        | 29.3 MB   | ######7    |  67% \n",
      "graphviz-2.38        | 29.3 MB   | ######7    |  67% \n",
      "graphviz-2.38        | 29.3 MB   | ######7    |  68% \n",
      "graphviz-2.38        | 29.3 MB   | ######7    |  68% \n",
      "graphviz-2.38        | 29.3 MB   | ######7    |  68% \n",
      "graphviz-2.38        | 29.3 MB   | ######7    |  68% \n",
      "graphviz-2.38        | 29.3 MB   | ######7    |  68% \n",
      "graphviz-2.38        | 29.3 MB   | ######8    |  68% \n",
      "graphviz-2.38        | 29.3 MB   | ######8    |  68% \n",
      "graphviz-2.38        | 29.3 MB   | ######8    |  68% \n",
      "graphviz-2.38        | 29.3 MB   | ######8    |  68% \n",
      "graphviz-2.38        | 29.3 MB   | ######8    |  68% \n",
      "graphviz-2.38        | 29.3 MB   | ######8    |  69% \n",
      "graphviz-2.38        | 29.3 MB   | ######8    |  69% \n",
      "graphviz-2.38        | 29.3 MB   | ######8    |  69% \n",
      "graphviz-2.38        | 29.3 MB   | ######8    |  69% \n",
      "graphviz-2.38        | 29.3 MB   | ######9    |  69% \n",
      "graphviz-2.38        | 29.3 MB   | ######9    |  69% \n",
      "graphviz-2.38        | 29.3 MB   | ######9    |  69% \n",
      "graphviz-2.38        | 29.3 MB   | ######9    |  69% \n",
      "graphviz-2.38        | 29.3 MB   | ######9    |  69% \n",
      "graphviz-2.38        | 29.3 MB   | ######9    |  70% \n",
      "graphviz-2.38        | 29.3 MB   | ######9    |  70% \n",
      "graphviz-2.38        | 29.3 MB   | ######9    |  70% \n",
      "graphviz-2.38        | 29.3 MB   | ######9    |  70% \n",
      "graphviz-2.38        | 29.3 MB   | #######    |  71% \n",
      "graphviz-2.38        | 29.3 MB   | #######    |  71% \n",
      "graphviz-2.38        | 29.3 MB   | #######    |  71% \n",
      "graphviz-2.38        | 29.3 MB   | #######1   |  71% \n",
      "graphviz-2.38        | 29.3 MB   | #######1   |  71% \n",
      "graphviz-2.38        | 29.3 MB   | #######1   |  71% \n",
      "graphviz-2.38        | 29.3 MB   | #######1   |  71% \n",
      "graphviz-2.38        | 29.3 MB   | #######1   |  71% \n",
      "graphviz-2.38        | 29.3 MB   | #######1   |  72% \n",
      "graphviz-2.38        | 29.3 MB   | #######1   |  72% \n",
      "graphviz-2.38        | 29.3 MB   | #######1   |  72% \n",
      "graphviz-2.38        | 29.3 MB   | #######1   |  72% \n",
      "graphviz-2.38        | 29.3 MB   | #######2   |  72% \n",
      "graphviz-2.38        | 29.3 MB   | #######2   |  72% \n",
      "graphviz-2.38        | 29.3 MB   | #######2   |  72% \n",
      "graphviz-2.38        | 29.3 MB   | #######2   |  72% \n",
      "graphviz-2.38        | 29.3 MB   | #######2   |  72% \n",
      "graphviz-2.38        | 29.3 MB   | #######2   |  73% \n",
      "graphviz-2.38        | 29.3 MB   | #######2   |  73% \n",
      "graphviz-2.38        | 29.3 MB   | #######2   |  73% \n",
      "graphviz-2.38        | 29.3 MB   | #######3   |  73% \n",
      "graphviz-2.38        | 29.3 MB   | #######3   |  74% \n",
      "graphviz-2.38        | 29.3 MB   | #######3   |  74% \n",
      "graphviz-2.38        | 29.3 MB   | #######3   |  74% \n",
      "graphviz-2.38        | 29.3 MB   | #######3   |  74% \n",
      "graphviz-2.38        | 29.3 MB   | #######4   |  74% \n",
      "graphviz-2.38        | 29.3 MB   | #######4   |  74% \n",
      "graphviz-2.38        | 29.3 MB   | #######4   |  74% \n",
      "graphviz-2.38        | 29.3 MB   | #######4   |  74% \n",
      "graphviz-2.38        | 29.3 MB   | #######4   |  75% \n",
      "graphviz-2.38        | 29.3 MB   | #######4   |  75% \n",
      "graphviz-2.38        | 29.3 MB   | #######4   |  75% \n",
      "graphviz-2.38        | 29.3 MB   | #######4   |  75% \n",
      "graphviz-2.38        | 29.3 MB   | #######4   |  75% \n",
      "graphviz-2.38        | 29.3 MB   | #######5   |  75% \n",
      "graphviz-2.38        | 29.3 MB   | #######5   |  75% \n",
      "graphviz-2.38        | 29.3 MB   | #######5   |  75% \n",
      "graphviz-2.38        | 29.3 MB   | #######5   |  75% \n",
      "graphviz-2.38        | 29.3 MB   | #######5   |  75% \n",
      "graphviz-2.38        | 29.3 MB   | #######5   |  76% \n",
      "graphviz-2.38        | 29.3 MB   | #######5   |  76% \n",
      "graphviz-2.38        | 29.3 MB   | #######5   |  76% \n",
      "graphviz-2.38        | 29.3 MB   | #######5   |  76% \n",
      "graphviz-2.38        | 29.3 MB   | #######5   |  76% \n",
      "graphviz-2.38        | 29.3 MB   | #######6   |  76% \n",
      "graphviz-2.38        | 29.3 MB   | #######6   |  76% \n",
      "graphviz-2.38        | 29.3 MB   | #######6   |  76% \n",
      "graphviz-2.38        | 29.3 MB   | #######6   |  76% \n",
      "graphviz-2.38        | 29.3 MB   | #######6   |  76% \n",
      "graphviz-2.38        | 29.3 MB   | #######6   |  77% \n",
      "graphviz-2.38        | 29.3 MB   | #######6   |  77% \n",
      "graphviz-2.38        | 29.3 MB   | #######6   |  77% \n",
      "graphviz-2.38        | 29.3 MB   | #######6   |  77% \n",
      "graphviz-2.38        | 29.3 MB   | #######7   |  77% \n",
      "graphviz-2.38        | 29.3 MB   | #######7   |  77% \n",
      "graphviz-2.38        | 29.3 MB   | #######7   |  77% \n",
      "graphviz-2.38        | 29.3 MB   | #######7   |  77% \n",
      "graphviz-2.38        | 29.3 MB   | #######7   |  77% \n",
      "graphviz-2.38        | 29.3 MB   | #######7   |  78% \n",
      "graphviz-2.38        | 29.3 MB   | #######7   |  78% \n",
      "graphviz-2.38        | 29.3 MB   | #######7   |  78% \n",
      "graphviz-2.38        | 29.3 MB   | #######7   |  78% \n",
      "graphviz-2.38        | 29.3 MB   | #######7   |  78% \n",
      "graphviz-2.38        | 29.3 MB   | #######8   |  78% \n",
      "graphviz-2.38        | 29.3 MB   | #######8   |  78% \n",
      "graphviz-2.38        | 29.3 MB   | #######8   |  78% \n",
      "graphviz-2.38        | 29.3 MB   | #######8   |  78% \n",
      "graphviz-2.38        | 29.3 MB   | #######8   |  79% \n",
      "graphviz-2.38        | 29.3 MB   | #######8   |  79% \n",
      "graphviz-2.38        | 29.3 MB   | #######8   |  79% \n",
      "graphviz-2.38        | 29.3 MB   | #######8   |  79% \n",
      "graphviz-2.38        | 29.3 MB   | #######8   |  79% \n",
      "graphviz-2.38        | 29.3 MB   | #######9   |  79% \n",
      "graphviz-2.38        | 29.3 MB   | #######9   |  79% \n",
      "graphviz-2.38        | 29.3 MB   | #######9   |  79% \n",
      "graphviz-2.38        | 29.3 MB   | #######9   |  79% \n",
      "graphviz-2.38        | 29.3 MB   | #######9   |  79% \n",
      "graphviz-2.38        | 29.3 MB   | #######9   |  80% \n",
      "graphviz-2.38        | 29.3 MB   | #######9   |  80% \n",
      "graphviz-2.38        | 29.3 MB   | #######9   |  80% \n",
      "graphviz-2.38        | 29.3 MB   | #######9   |  80% \n",
      "graphviz-2.38        | 29.3 MB   | ########   |  80% \n",
      "graphviz-2.38        | 29.3 MB   | ########   |  80% \n",
      "graphviz-2.38        | 29.3 MB   | ########   |  80% \n",
      "graphviz-2.38        | 29.3 MB   | ########   |  80% \n",
      "graphviz-2.38        | 29.3 MB   | ########   |  80% \n",
      "graphviz-2.38        | 29.3 MB   | ########   |  81% \n",
      "graphviz-2.38        | 29.3 MB   | ########   |  81% \n",
      "graphviz-2.38        | 29.3 MB   | ########   |  81% \n",
      "graphviz-2.38        | 29.3 MB   | ########   |  81% \n",
      "graphviz-2.38        | 29.3 MB   | ########   |  81% \n",
      "graphviz-2.38        | 29.3 MB   | ########1  |  81% \n",
      "graphviz-2.38        | 29.3 MB   | ########1  |  81% \n",
      "graphviz-2.38        | 29.3 MB   | ########1  |  81% \n",
      "graphviz-2.38        | 29.3 MB   | ########1  |  81% \n",
      "graphviz-2.38        | 29.3 MB   | ########1  |  81% \n",
      "graphviz-2.38        | 29.3 MB   | ########1  |  82% \n",
      "graphviz-2.38        | 29.3 MB   | ########1  |  82% \n",
      "graphviz-2.38        | 29.3 MB   | ########1  |  82% \n",
      "graphviz-2.38        | 29.3 MB   | ########1  |  82% \n",
      "graphviz-2.38        | 29.3 MB   | ########2  |  82% \n",
      "graphviz-2.38        | 29.3 MB   | ########2  |  82% \n",
      "graphviz-2.38        | 29.3 MB   | ########2  |  82% \n",
      "graphviz-2.38        | 29.3 MB   | ########2  |  82% \n",
      "graphviz-2.38        | 29.3 MB   | ########2  |  82% \n",
      "graphviz-2.38        | 29.3 MB   | ########2  |  83% \n",
      "graphviz-2.38        | 29.3 MB   | ########2  |  83% \n",
      "graphviz-2.38        | 29.3 MB   | ########2  |  83% \n",
      "graphviz-2.38        | 29.3 MB   | ########2  |  83% \n",
      "graphviz-2.38        | 29.3 MB   | ########2  |  83% \n",
      "graphviz-2.38        | 29.3 MB   | ########3  |  83% \n",
      "graphviz-2.38        | 29.3 MB   | ########3  |  83% \n",
      "graphviz-2.38        | 29.3 MB   | ########3  |  83% \n",
      "graphviz-2.38        | 29.3 MB   | ########3  |  83% \n",
      "graphviz-2.38        | 29.3 MB   | ########3  |  84% \n",
      "graphviz-2.38        | 29.3 MB   | ########3  |  84% \n",
      "graphviz-2.38        | 29.3 MB   | ########3  |  84% \n",
      "graphviz-2.38        | 29.3 MB   | ########3  |  84% \n",
      "graphviz-2.38        | 29.3 MB   | ########3  |  84% \n",
      "graphviz-2.38        | 29.3 MB   | ########4  |  84% \n",
      "graphviz-2.38        | 29.3 MB   | ########4  |  84% \n",
      "graphviz-2.38        | 29.3 MB   | ########4  |  84% \n",
      "graphviz-2.38        | 29.3 MB   | ########4  |  84% \n",
      "graphviz-2.38        | 29.3 MB   | ########4  |  84% \n",
      "graphviz-2.38        | 29.3 MB   | ########4  |  85% \n",
      "graphviz-2.38        | 29.3 MB   | ########4  |  85% \n",
      "graphviz-2.38        | 29.3 MB   | ########4  |  85% \n",
      "graphviz-2.38        | 29.3 MB   | ########4  |  85% \n",
      "graphviz-2.38        | 29.3 MB   | ########5  |  85% \n",
      "graphviz-2.38        | 29.3 MB   | ########5  |  85% \n",
      "graphviz-2.38        | 29.3 MB   | ########5  |  85% \n",
      "graphviz-2.38        | 29.3 MB   | ########5  |  85% \n",
      "graphviz-2.38        | 29.3 MB   | ########5  |  85% \n",
      "graphviz-2.38        | 29.3 MB   | ########5  |  86% \n",
      "graphviz-2.38        | 29.3 MB   | ########5  |  86% \n",
      "graphviz-2.38        | 29.3 MB   | ########5  |  86% \n",
      "graphviz-2.38        | 29.3 MB   | ########5  |  86% \n",
      "graphviz-2.38        | 29.3 MB   | ########6  |  86% \n",
      "graphviz-2.38        | 29.3 MB   | ########6  |  86% \n",
      "graphviz-2.38        | 29.3 MB   | ########6  |  86% \n",
      "graphviz-2.38        | 29.3 MB   | ########6  |  86% \n",
      "graphviz-2.38        | 29.3 MB   | ########6  |  86% \n",
      "graphviz-2.38        | 29.3 MB   | ########6  |  87% \n",
      "graphviz-2.38        | 29.3 MB   | ########6  |  87% \n",
      "graphviz-2.38        | 29.3 MB   | ########6  |  87% \n",
      "graphviz-2.38        | 29.3 MB   | ########6  |  87% \n",
      "graphviz-2.38        | 29.3 MB   | ########6  |  87% \n",
      "graphviz-2.38        | 29.3 MB   | ########7  |  87% \n",
      "graphviz-2.38        | 29.3 MB   | ########7  |  87% \n",
      "graphviz-2.38        | 29.3 MB   | ########7  |  87% \n",
      "graphviz-2.38        | 29.3 MB   | ########7  |  87% \n",
      "graphviz-2.38        | 29.3 MB   | ########7  |  88% \n",
      "graphviz-2.38        | 29.3 MB   | ########7  |  88% \n",
      "graphviz-2.38        | 29.3 MB   | ########7  |  88% \n",
      "graphviz-2.38        | 29.3 MB   | ########7  |  88% \n",
      "graphviz-2.38        | 29.3 MB   | ########7  |  88% \n",
      "graphviz-2.38        | 29.3 MB   | ########8  |  88% \n",
      "graphviz-2.38        | 29.3 MB   | ########8  |  88% \n",
      "graphviz-2.38        | 29.3 MB   | ########8  |  88% \n",
      "graphviz-2.38        | 29.3 MB   | ########8  |  88% \n",
      "graphviz-2.38        | 29.3 MB   | ########8  |  88% \n",
      "graphviz-2.38        | 29.3 MB   | ########8  |  89% \n",
      "graphviz-2.38        | 29.3 MB   | ########8  |  89% \n",
      "graphviz-2.38        | 29.3 MB   | ########8  |  89% \n",
      "graphviz-2.38        | 29.3 MB   | ########8  |  89% \n",
      "graphviz-2.38        | 29.3 MB   | ########9  |  89% \n",
      "graphviz-2.38        | 29.3 MB   | ########9  |  89% \n",
      "graphviz-2.38        | 29.3 MB   | ########9  |  89% \n",
      "graphviz-2.38        | 29.3 MB   | ########9  |  89% \n",
      "graphviz-2.38        | 29.3 MB   | ########9  |  89% \n",
      "graphviz-2.38        | 29.3 MB   | ########9  |  90% \n",
      "graphviz-2.38        | 29.3 MB   | ########9  |  90% \n",
      "graphviz-2.38        | 29.3 MB   | ########9  |  90% \n",
      "graphviz-2.38        | 29.3 MB   | ########9  |  90% \n",
      "graphviz-2.38        | 29.3 MB   | ########9  |  90% \n",
      "graphviz-2.38        | 29.3 MB   | #########  |  90% \n",
      "graphviz-2.38        | 29.3 MB   | #########  |  90% \n",
      "graphviz-2.38        | 29.3 MB   | #########  |  90% \n",
      "graphviz-2.38        | 29.3 MB   | #########  |  90% \n",
      "graphviz-2.38        | 29.3 MB   | #########  |  91% \n",
      "graphviz-2.38        | 29.3 MB   | #########  |  91% \n",
      "graphviz-2.38        | 29.3 MB   | #########  |  91% \n",
      "graphviz-2.38        | 29.3 MB   | #########  |  91% \n",
      "graphviz-2.38        | 29.3 MB   | #########  |  91% \n",
      "graphviz-2.38        | 29.3 MB   | #########1 |  91% \n",
      "graphviz-2.38        | 29.3 MB   | #########1 |  91% \n",
      "graphviz-2.38        | 29.3 MB   | #########1 |  91% \n",
      "graphviz-2.38        | 29.3 MB   | #########1 |  91% \n",
      "graphviz-2.38        | 29.3 MB   | #########2 |  92% \n",
      "graphviz-2.38        | 29.3 MB   | #########2 |  92% \n",
      "graphviz-2.38        | 29.3 MB   | #########2 |  92% \n",
      "graphviz-2.38        | 29.3 MB   | #########2 |  92% \n",
      "graphviz-2.38        | 29.3 MB   | #########2 |  92% \n",
      "graphviz-2.38        | 29.3 MB   | #########2 |  93% \n",
      "graphviz-2.38        | 29.3 MB   | #########2 |  93% \n",
      "graphviz-2.38        | 29.3 MB   | #########2 |  93% \n",
      "graphviz-2.38        | 29.3 MB   | #########2 |  93% \n",
      "graphviz-2.38        | 29.3 MB   | #########3 |  93% \n",
      "graphviz-2.38        | 29.3 MB   | #########3 |  93% \n",
      "graphviz-2.38        | 29.3 MB   | #########3 |  93% \n",
      "graphviz-2.38        | 29.3 MB   | #########3 |  93% \n",
      "graphviz-2.38        | 29.3 MB   | #########3 |  93% \n",
      "graphviz-2.38        | 29.3 MB   | #########3 |  94% \n",
      "graphviz-2.38        | 29.3 MB   | #########3 |  94% \n",
      "graphviz-2.38        | 29.3 MB   | #########3 |  94% \n",
      "graphviz-2.38        | 29.3 MB   | #########3 |  94% \n",
      "graphviz-2.38        | 29.3 MB   | #########4 |  94% \n",
      "graphviz-2.38        | 29.3 MB   | #########4 |  94% \n",
      "graphviz-2.38        | 29.3 MB   | #########4 |  94% \n",
      "graphviz-2.38        | 29.3 MB   | #########4 |  94% \n",
      "graphviz-2.38        | 29.3 MB   | #########4 |  94% \n",
      "graphviz-2.38        | 29.3 MB   | #########4 |  95% \n",
      "graphviz-2.38        | 29.3 MB   | #########4 |  95% \n",
      "graphviz-2.38        | 29.3 MB   | #########4 |  95% \n",
      "graphviz-2.38        | 29.3 MB   | #########4 |  95% \n",
      "graphviz-2.38        | 29.3 MB   | #########5 |  95% \n",
      "graphviz-2.38        | 29.3 MB   | #########5 |  95% \n",
      "graphviz-2.38        | 29.3 MB   | #########5 |  95% \n",
      "graphviz-2.38        | 29.3 MB   | #########5 |  95% \n",
      "graphviz-2.38        | 29.3 MB   | #########5 |  95% \n",
      "graphviz-2.38        | 29.3 MB   | #########5 |  96% \n",
      "graphviz-2.38        | 29.3 MB   | #########5 |  96% \n",
      "graphviz-2.38        | 29.3 MB   | #########5 |  96% \n",
      "graphviz-2.38        | 29.3 MB   | #########5 |  96% \n",
      "graphviz-2.38        | 29.3 MB   | #########6 |  96% \n",
      "graphviz-2.38        | 29.3 MB   | #########6 |  96% \n",
      "graphviz-2.38        | 29.3 MB   | #########6 |  96% \n",
      "graphviz-2.38        | 29.3 MB   | #########6 |  96% \n",
      "graphviz-2.38        | 29.3 MB   | #########6 |  96% \n",
      "graphviz-2.38        | 29.3 MB   | #########6 |  97% \n",
      "graphviz-2.38        | 29.3 MB   | #########6 |  97% \n",
      "graphviz-2.38        | 29.3 MB   | #########6 |  97% \n",
      "graphviz-2.38        | 29.3 MB   | #########6 |  97% \n",
      "graphviz-2.38        | 29.3 MB   | #########6 |  97% \n",
      "graphviz-2.38        | 29.3 MB   | #########6 |  97% \n",
      "graphviz-2.38        | 29.3 MB   | #########7 |  97% \n",
      "graphviz-2.38        | 29.3 MB   | #########7 |  97% \n",
      "graphviz-2.38        | 29.3 MB   | #########7 |  97% \n",
      "graphviz-2.38        | 29.3 MB   | #########7 |  97% \n",
      "graphviz-2.38        | 29.3 MB   | #########7 |  97% \n",
      "graphviz-2.38        | 29.3 MB   | #########7 |  97% \n",
      "graphviz-2.38        | 29.3 MB   | #########7 |  98% \n",
      "graphviz-2.38        | 29.3 MB   | #########7 |  98% \n",
      "graphviz-2.38        | 29.3 MB   | #########7 |  98% \n",
      "graphviz-2.38        | 29.3 MB   | #########7 |  98% \n",
      "graphviz-2.38        | 29.3 MB   | #########8 |  98% \n",
      "graphviz-2.38        | 29.3 MB   | #########8 |  98% \n",
      "graphviz-2.38        | 29.3 MB   | #########8 |  98% \n",
      "graphviz-2.38        | 29.3 MB   | #########8 |  98% \n",
      "graphviz-2.38        | 29.3 MB   | #########8 |  98% \n",
      "graphviz-2.38        | 29.3 MB   | #########8 |  98% \n",
      "graphviz-2.38        | 29.3 MB   | #########8 |  99% \n",
      "graphviz-2.38        | 29.3 MB   | #########8 |  99% \n",
      "graphviz-2.38        | 29.3 MB   | #########8 |  99% \n",
      "graphviz-2.38        | 29.3 MB   | #########8 |  99% \n",
      "graphviz-2.38        | 29.3 MB   | #########8 |  99% \n",
      "graphviz-2.38        | 29.3 MB   | #########8 |  99% \n",
      "graphviz-2.38        | 29.3 MB   | #########8 |  99% \n",
      "graphviz-2.38        | 29.3 MB   | #########9 |  99% \n",
      "graphviz-2.38        | 29.3 MB   | #########9 |  99% \n",
      "graphviz-2.38        | 29.3 MB   | #########9 |  99% \n",
      "graphviz-2.38        | 29.3 MB   | #########9 |  99% \n",
      "graphviz-2.38        | 29.3 MB   | #########9 |  99% \n",
      "graphviz-2.38        | 29.3 MB   | #########9 |  99% \n",
      "graphviz-2.38        | 29.3 MB   | #########9 |  99% \n",
      "graphviz-2.38        | 29.3 MB   | #########9 | 100% \n",
      "graphviz-2.38        | 29.3 MB   | #########9 | 100% \n",
      "graphviz-2.38        | 29.3 MB   | #########9 | 100% \n",
      "graphviz-2.38        | 29.3 MB   | #########9 | 100% \n",
      "graphviz-2.38        | 29.3 MB   | #########9 | 100% \n",
      "graphviz-2.38        | 29.3 MB   | #########9 | 100% \n",
      "graphviz-2.38        | 29.3 MB   | #########9 | 100% \n",
      "graphviz-2.38        | 29.3 MB   | ########## | 100% \n",
      "graphviz-2.38        | 29.3 MB   | ########## | 100% \n",
      "Preparing transaction: ...working... done\n",
      "Verifying transaction: ...working... done\n",
      "Executing transaction: ...working... done\n"
     ]
    }
   ],
   "source": [
    "!conda install python-graphviz -y"
   ]
  },
  {
   "cell_type": "code",
   "execution_count": 47,
   "metadata": {
    "collapsed": true,
    "jupyter": {
     "outputs_hidden": true
    }
   },
   "outputs": [
    {
     "name": "stdout",
     "output_type": "stream",
     "text": [
      "Collecting pydotplus\n",
      "  Downloading pydotplus-2.0.2.tar.gz (278 kB)\n",
      "Requirement already satisfied: pyparsing>=2.0.1 in c:\\users\\icode9\\anaconda3\\lib\\site-packages (from pydotplus) (2.4.7)\n",
      "Building wheels for collected packages: pydotplus\n",
      "  Building wheel for pydotplus (setup.py): started\n",
      "  Building wheel for pydotplus (setup.py): finished with status 'done'\n",
      "  Created wheel for pydotplus: filename=pydotplus-2.0.2-py3-none-any.whl size=24572 sha256=9a5ef809589bbb8342c7ce06b62c6dd8c383563012a76fe264f987eb10b5ca5f\n",
      "  Stored in directory: c:\\users\\icode9\\appdata\\local\\pip\\cache\\wheels\\fe\\cd\\78\\a7e873cc049759194f8271f780640cf96b35e5a48bef0e2f36\n",
      "Successfully built pydotplus\n",
      "Installing collected packages: pydotplus\n",
      "Successfully installed pydotplus-2.0.2\n"
     ]
    }
   ],
   "source": [
    "!pip install pydotplus"
   ]
  },
  {
   "cell_type": "code",
   "execution_count": null,
   "metadata": {},
   "outputs": [],
   "source": [
    "import pydotplus\n",
    "from sklearn.external.six import String IO\n",
    "from IPython.display\n",
    "\n",
    "dot_data = tree.export_graphviz(clf, out_file=None)\n",
    "graph = graph"
   ]
  },
  {
   "cell_type": "code",
   "execution_count": 44,
   "metadata": {},
   "outputs": [],
   "source": [
    "clf = DecisionTreeClassifier(criterion='entropy',\n",
    "                            max_depth=3)\n",
    "\n",
    "clf.fit(x_train, y_train)\n",
    "\n",
    "y_pred = clf.predict(x_test)"
   ]
  },
  {
   "cell_type": "code",
   "execution_count": 45,
   "metadata": {},
   "outputs": [
    {
     "data": {
      "text/plain": [
       "0.7142857142857143"
      ]
     },
     "execution_count": 45,
     "metadata": {},
     "output_type": "execute_result"
    }
   ],
   "source": [
    "accuracy_score(y_test, y_pred)"
   ]
  },
  {
   "cell_type": "markdown",
   "metadata": {},
   "source": [
    "## Random Forest"
   ]
  },
  {
   "cell_type": "code",
   "execution_count": 48,
   "metadata": {},
   "outputs": [],
   "source": [
    "iris = datasets.load_iris()"
   ]
  },
  {
   "cell_type": "code",
   "execution_count": 49,
   "metadata": {
    "collapsed": true,
    "jupyter": {
     "outputs_hidden": true
    }
   },
   "outputs": [
    {
     "name": "stdout",
     "output_type": "stream",
     "text": [
      ".. _iris_dataset:\n",
      "\n",
      "Iris plants dataset\n",
      "--------------------\n",
      "\n",
      "**Data Set Characteristics:**\n",
      "\n",
      "    :Number of Instances: 150 (50 in each of three classes)\n",
      "    :Number of Attributes: 4 numeric, predictive attributes and the class\n",
      "    :Attribute Information:\n",
      "        - sepal length in cm\n",
      "        - sepal width in cm\n",
      "        - petal length in cm\n",
      "        - petal width in cm\n",
      "        - class:\n",
      "                - Iris-Setosa\n",
      "                - Iris-Versicolour\n",
      "                - Iris-Virginica\n",
      "                \n",
      "    :Summary Statistics:\n",
      "\n",
      "    ============== ==== ==== ======= ===== ====================\n",
      "                    Min  Max   Mean    SD   Class Correlation\n",
      "    ============== ==== ==== ======= ===== ====================\n",
      "    sepal length:   4.3  7.9   5.84   0.83    0.7826\n",
      "    sepal width:    2.0  4.4   3.05   0.43   -0.4194\n",
      "    petal length:   1.0  6.9   3.76   1.76    0.9490  (high!)\n",
      "    petal width:    0.1  2.5   1.20   0.76    0.9565  (high!)\n",
      "    ============== ==== ==== ======= ===== ====================\n",
      "\n",
      "    :Missing Attribute Values: None\n",
      "    :Class Distribution: 33.3% for each of 3 classes.\n",
      "    :Creator: R.A. Fisher\n",
      "    :Donor: Michael Marshall (MARSHALL%PLU@io.arc.nasa.gov)\n",
      "    :Date: July, 1988\n",
      "\n",
      "The famous Iris database, first used by Sir R.A. Fisher. The dataset is taken\n",
      "from Fisher's paper. Note that it's the same as in R, but not as in the UCI\n",
      "Machine Learning Repository, which has two wrong data points.\n",
      "\n",
      "This is perhaps the best known database to be found in the\n",
      "pattern recognition literature.  Fisher's paper is a classic in the field and\n",
      "is referenced frequently to this day.  (See Duda & Hart, for example.)  The\n",
      "data set contains 3 classes of 50 instances each, where each class refers to a\n",
      "type of iris plant.  One class is linearly separable from the other 2; the\n",
      "latter are NOT linearly separable from each other.\n",
      "\n",
      ".. topic:: References\n",
      "\n",
      "   - Fisher, R.A. \"The use of multiple measurements in taxonomic problems\"\n",
      "     Annual Eugenics, 7, Part II, 179-188 (1936); also in \"Contributions to\n",
      "     Mathematical Statistics\" (John Wiley, NY, 1950).\n",
      "   - Duda, R.O., & Hart, P.E. (1973) Pattern Classification and Scene Analysis.\n",
      "     (Q327.D83) John Wiley & Sons.  ISBN 0-471-22361-1.  See page 218.\n",
      "   - Dasarathy, B.V. (1980) \"Nosing Around the Neighborhood: A New System\n",
      "     Structure and Classification Rule for Recognition in Partially Exposed\n",
      "     Environments\".  IEEE Transactions on Pattern Analysis and Machine\n",
      "     Intelligence, Vol. PAMI-2, No. 1, 67-71.\n",
      "   - Gates, G.W. (1972) \"The Reduced Nearest Neighbor Rule\".  IEEE Transactions\n",
      "     on Information Theory, May 1972, 431-433.\n",
      "   - See also: 1988 MLC Proceedings, 54-64.  Cheeseman et al\"s AUTOCLASS II\n",
      "     conceptual clustering system finds 3 classes in the data.\n",
      "   - Many, many more ...\n"
     ]
    }
   ],
   "source": [
    "print(iris.DESCR)"
   ]
  },
  {
   "cell_type": "code",
   "execution_count": 50,
   "metadata": {},
   "outputs": [
    {
     "data": {
      "text/plain": [
       "array([[5.1, 3.5, 1.4, 0.2],\n",
       "       [4.9, 3. , 1.4, 0.2],\n",
       "       [4.7, 3.2, 1.3, 0.2],\n",
       "       [4.6, 3.1, 1.5, 0.2],\n",
       "       [5. , 3.6, 1.4, 0.2]])"
      ]
     },
     "execution_count": 50,
     "metadata": {},
     "output_type": "execute_result"
    }
   ],
   "source": [
    "iris.data[0:5]"
   ]
  },
  {
   "cell_type": "code",
   "execution_count": 51,
   "metadata": {},
   "outputs": [
    {
     "data": {
      "text/plain": [
       "array([0, 0, 0, 0, 0])"
      ]
     },
     "execution_count": 51,
     "metadata": {},
     "output_type": "execute_result"
    }
   ],
   "source": [
    "iris.target[0:5]"
   ]
  },
  {
   "cell_type": "code",
   "execution_count": 52,
   "metadata": {},
   "outputs": [
    {
     "data": {
      "text/html": [
       "<div>\n",
       "<style scoped>\n",
       "    .dataframe tbody tr th:only-of-type {\n",
       "        vertical-align: middle;\n",
       "    }\n",
       "\n",
       "    .dataframe tbody tr th {\n",
       "        vertical-align: top;\n",
       "    }\n",
       "\n",
       "    .dataframe thead th {\n",
       "        text-align: right;\n",
       "    }\n",
       "</style>\n",
       "<table border=\"1\" class=\"dataframe\">\n",
       "  <thead>\n",
       "    <tr style=\"text-align: right;\">\n",
       "      <th></th>\n",
       "      <th>sepal length</th>\n",
       "      <th>sepal width</th>\n",
       "      <th>petal length</th>\n",
       "      <th>petal width</th>\n",
       "      <th>species</th>\n",
       "    </tr>\n",
       "  </thead>\n",
       "  <tbody>\n",
       "    <tr>\n",
       "      <th>0</th>\n",
       "      <td>5.1</td>\n",
       "      <td>3.5</td>\n",
       "      <td>1.4</td>\n",
       "      <td>0.2</td>\n",
       "      <td>0</td>\n",
       "    </tr>\n",
       "    <tr>\n",
       "      <th>1</th>\n",
       "      <td>4.9</td>\n",
       "      <td>3.0</td>\n",
       "      <td>1.4</td>\n",
       "      <td>0.2</td>\n",
       "      <td>0</td>\n",
       "    </tr>\n",
       "    <tr>\n",
       "      <th>2</th>\n",
       "      <td>4.7</td>\n",
       "      <td>3.2</td>\n",
       "      <td>1.3</td>\n",
       "      <td>0.2</td>\n",
       "      <td>0</td>\n",
       "    </tr>\n",
       "  </tbody>\n",
       "</table>\n",
       "</div>"
      ],
      "text/plain": [
       "   sepal length  sepal width  petal length  petal width  species\n",
       "0           5.1          3.5           1.4          0.2        0\n",
       "1           4.9          3.0           1.4          0.2        0\n",
       "2           4.7          3.2           1.3          0.2        0"
      ]
     },
     "execution_count": 52,
     "metadata": {},
     "output_type": "execute_result"
    }
   ],
   "source": [
    "data = pd.DataFrame({\n",
    "    'sepal length': iris.data[:, 0],\n",
    "    'sepal width': iris.data[:, 1],\n",
    "    'petal length': iris.data[:, 2],\n",
    "    'petal width': iris.data[:, 3],\n",
    "    'species': iris.target\n",
    "})\n",
    "\n",
    "data.head(3)"
   ]
  },
  {
   "cell_type": "code",
   "execution_count": 55,
   "metadata": {},
   "outputs": [],
   "source": [
    "x = data.drop(columns='species')\n",
    "y = data.species"
   ]
  },
  {
   "cell_type": "code",
   "execution_count": 56,
   "metadata": {},
   "outputs": [
    {
     "data": {
      "text/html": [
       "<div>\n",
       "<style scoped>\n",
       "    .dataframe tbody tr th:only-of-type {\n",
       "        vertical-align: middle;\n",
       "    }\n",
       "\n",
       "    .dataframe tbody tr th {\n",
       "        vertical-align: top;\n",
       "    }\n",
       "\n",
       "    .dataframe thead th {\n",
       "        text-align: right;\n",
       "    }\n",
       "</style>\n",
       "<table border=\"1\" class=\"dataframe\">\n",
       "  <thead>\n",
       "    <tr style=\"text-align: right;\">\n",
       "      <th></th>\n",
       "      <th>sepal length</th>\n",
       "      <th>sepal width</th>\n",
       "      <th>petal length</th>\n",
       "      <th>petal width</th>\n",
       "    </tr>\n",
       "  </thead>\n",
       "  <tbody>\n",
       "    <tr>\n",
       "      <th>0</th>\n",
       "      <td>5.1</td>\n",
       "      <td>3.5</td>\n",
       "      <td>1.4</td>\n",
       "      <td>0.2</td>\n",
       "    </tr>\n",
       "    <tr>\n",
       "      <th>1</th>\n",
       "      <td>4.9</td>\n",
       "      <td>3.0</td>\n",
       "      <td>1.4</td>\n",
       "      <td>0.2</td>\n",
       "    </tr>\n",
       "  </tbody>\n",
       "</table>\n",
       "</div>"
      ],
      "text/plain": [
       "   sepal length  sepal width  petal length  petal width\n",
       "0           5.1          3.5           1.4          0.2\n",
       "1           4.9          3.0           1.4          0.2"
      ]
     },
     "execution_count": 56,
     "metadata": {},
     "output_type": "execute_result"
    }
   ],
   "source": [
    "x.head(2)"
   ]
  },
  {
   "cell_type": "code",
   "execution_count": 57,
   "metadata": {},
   "outputs": [
    {
     "data": {
      "text/plain": [
       "0    0\n",
       "1    0\n",
       "Name: species, dtype: int32"
      ]
     },
     "execution_count": 57,
     "metadata": {},
     "output_type": "execute_result"
    }
   ],
   "source": [
    "y[0:2]"
   ]
  },
  {
   "cell_type": "code",
   "execution_count": 58,
   "metadata": {},
   "outputs": [],
   "source": [
    "x_train, x_test, y_train, y_test = train_test_split(x,\n",
    "                                                   y,\n",
    "                                                   test_size=0.3)"
   ]
  },
  {
   "cell_type": "code",
   "execution_count": 59,
   "metadata": {},
   "outputs": [
    {
     "data": {
      "text/plain": [
       "(105, 4)"
      ]
     },
     "execution_count": 59,
     "metadata": {},
     "output_type": "execute_result"
    }
   ],
   "source": [
    "x_train.shape"
   ]
  },
  {
   "cell_type": "code",
   "execution_count": 60,
   "metadata": {},
   "outputs": [
    {
     "data": {
      "text/plain": [
       "(45, 4)"
      ]
     },
     "execution_count": 60,
     "metadata": {},
     "output_type": "execute_result"
    }
   ],
   "source": [
    "x_test.shape"
   ]
  },
  {
   "cell_type": "code",
   "execution_count": 61,
   "metadata": {},
   "outputs": [],
   "source": [
    "from sklearn.ensemble import RandomForestClassifier"
   ]
  },
  {
   "cell_type": "code",
   "execution_count": 62,
   "metadata": {},
   "outputs": [],
   "source": [
    "clf = RandomForestClassifier(n_estimators=100)\n",
    "\n",
    "clf.fit(x_train, y_train)\n",
    "\n",
    "y_pred = clf.predict(x_test)"
   ]
  },
  {
   "cell_type": "code",
   "execution_count": 63,
   "metadata": {},
   "outputs": [
    {
     "data": {
      "text/plain": [
       "0.9777777777777777"
      ]
     },
     "execution_count": 63,
     "metadata": {},
     "output_type": "execute_result"
    }
   ],
   "source": [
    "accuracy_score(y_test, y_pred)"
   ]
  },
  {
   "cell_type": "code",
   "execution_count": 64,
   "metadata": {},
   "outputs": [
    {
     "data": {
      "text/plain": [
       "array([1])"
      ]
     },
     "execution_count": 64,
     "metadata": {},
     "output_type": "execute_result"
    }
   ],
   "source": [
    "clf.predict([[3, 5, 4, 2]])"
   ]
  },
  {
   "cell_type": "code",
   "execution_count": 66,
   "metadata": {},
   "outputs": [
    {
     "data": {
      "text/plain": [
       "array([0.08037785, 0.01952948, 0.44405839, 0.45603429])"
      ]
     },
     "execution_count": 66,
     "metadata": {},
     "output_type": "execute_result"
    }
   ],
   "source": [
    "clf.feature_importances_"
   ]
  },
  {
   "cell_type": "code",
   "execution_count": 65,
   "metadata": {},
   "outputs": [],
   "source": [
    "import seaborn as sns"
   ]
  },
  {
   "cell_type": "code",
   "execution_count": 67,
   "metadata": {},
   "outputs": [],
   "source": [
    "feature_imp = pd.Series(clf.feature_importances_,\n",
    "                       index = iris.feature_names).sort_values(ascending=False)"
   ]
  },
  {
   "cell_type": "code",
   "execution_count": 68,
   "metadata": {},
   "outputs": [
    {
     "data": {
      "text/plain": [
       "<AxesSubplot:>"
      ]
     },
     "execution_count": 68,
     "metadata": {},
     "output_type": "execute_result"
    },
    {
     "data": {
      "image/png": "[encoded data removed]",
      "text/plain": [
       "<Figure size 432x288 with 1 Axes>"
      ]
     },
     "metadata": {
      "needs_background": "light"
     },
     "output_type": "display_data"
    }
   ],
   "source": [
    "sns.barplot(x=feature_imp, y=feature_imp.index)"
   ]
  },
  {
   "cell_type": "code",
   "execution_count": 69,
   "metadata": {},
   "outputs": [
    {
     "data": {
      "text/html": [
       "<div>\n",
       "<style scoped>\n",
       "    .dataframe tbody tr th:only-of-type {\n",
       "        vertical-align: middle;\n",
       "    }\n",
       "\n",
       "    .dataframe tbody tr th {\n",
       "        vertical-align: top;\n",
       "    }\n",
       "\n",
       "    .dataframe thead th {\n",
       "        text-align: right;\n",
       "    }\n",
       "</style>\n",
       "<table border=\"1\" class=\"dataframe\">\n",
       "  <thead>\n",
       "    <tr style=\"text-align: right;\">\n",
       "      <th></th>\n",
       "      <th>sepal length</th>\n",
       "      <th>sepal width</th>\n",
       "      <th>petal length</th>\n",
       "      <th>petal width</th>\n",
       "      <th>species</th>\n",
       "    </tr>\n",
       "  </thead>\n",
       "  <tbody>\n",
       "    <tr>\n",
       "      <th>0</th>\n",
       "      <td>5.1</td>\n",
       "      <td>3.5</td>\n",
       "      <td>1.4</td>\n",
       "      <td>0.2</td>\n",
       "      <td>0</td>\n",
       "    </tr>\n",
       "    <tr>\n",
       "      <th>1</th>\n",
       "      <td>4.9</td>\n",
       "      <td>3.0</td>\n",
       "      <td>1.4</td>\n",
       "      <td>0.2</td>\n",
       "      <td>0</td>\n",
       "    </tr>\n",
       "  </tbody>\n",
       "</table>\n",
       "</div>"
      ],
      "text/plain": [
       "   sepal length  sepal width  petal length  petal width  species\n",
       "0           5.1          3.5           1.4          0.2        0\n",
       "1           4.9          3.0           1.4          0.2        0"
      ]
     },
     "execution_count": 69,
     "metadata": {},
     "output_type": "execute_result"
    }
   ],
   "source": [
    "data.head(2)"
   ]
  },
  {
   "cell_type": "code",
   "execution_count": 70,
   "metadata": {},
   "outputs": [
    {
     "data": {
      "text/html": [
       "<div>\n",
       "<style scoped>\n",
       "    .dataframe tbody tr th:only-of-type {\n",
       "        vertical-align: middle;\n",
       "    }\n",
       "\n",
       "    .dataframe tbody tr th {\n",
       "        vertical-align: top;\n",
       "    }\n",
       "\n",
       "    .dataframe thead th {\n",
       "        text-align: right;\n",
       "    }\n",
       "</style>\n",
       "<table border=\"1\" class=\"dataframe\">\n",
       "  <thead>\n",
       "    <tr style=\"text-align: right;\">\n",
       "      <th></th>\n",
       "      <th>sepal length</th>\n",
       "      <th>petal length</th>\n",
       "      <th>petal width</th>\n",
       "    </tr>\n",
       "  </thead>\n",
       "  <tbody>\n",
       "    <tr>\n",
       "      <th>0</th>\n",
       "      <td>5.1</td>\n",
       "      <td>1.4</td>\n",
       "      <td>0.2</td>\n",
       "    </tr>\n",
       "    <tr>\n",
       "      <th>1</th>\n",
       "      <td>4.9</td>\n",
       "      <td>1.4</td>\n",
       "      <td>0.2</td>\n",
       "    </tr>\n",
       "  </tbody>\n",
       "</table>\n",
       "</div>"
      ],
      "text/plain": [
       "   sepal length  petal length  petal width\n",
       "0           5.1           1.4          0.2\n",
       "1           4.9           1.4          0.2"
      ]
     },
     "execution_count": 70,
     "metadata": {},
     "output_type": "execute_result"
    }
   ],
   "source": [
    "x = data.drop(columns=['sepal width', 'species'])\n",
    "x.head(2)"
   ]
  },
  {
   "cell_type": "code",
   "execution_count": 72,
   "metadata": {},
   "outputs": [],
   "source": [
    "x_train, x_test, y_train, y_test = train_test_split(x,\n",
    "                                                   y,\n",
    "                                                   test_size=0.3,\n",
    "                                                   random_state=13)"
   ]
  },
  {
   "cell_type": "code",
   "execution_count": 73,
   "metadata": {},
   "outputs": [
    {
     "data": {
      "text/plain": [
       "0.9555555555555556"
      ]
     },
     "execution_count": 73,
     "metadata": {},
     "output_type": "execute_result"
    }
   ],
   "source": [
    "clf = RandomForestClassifier(n_estimators=100)\n",
    "\n",
    "clf.fit(x_train, y_train)\n",
    "\n",
    "y_pred = clf.predict(x_test)\n",
    "\n",
    "accuracy_score(y_test, y_pred)"
   ]
  },
  {
   "cell_type": "markdown",
   "metadata": {},
   "source": [
    "## SVM"
   ]
  },
  {
   "cell_type": "code",
   "execution_count": 74,
   "metadata": {},
   "outputs": [],
   "source": [
    "cancer = datasets.load_breast_cancer()"
   ]
  },
  {
   "cell_type": "code",
   "execution_count": 75,
   "metadata": {
    "collapsed": true,
    "jupyter": {
     "outputs_hidden": true
    }
   },
   "outputs": [
    {
     "name": "stdout",
     "output_type": "stream",
     "text": [
      ".. _breast_cancer_dataset:\n",
      "\n",
      "Breast cancer wisconsin (diagnostic) dataset\n",
      "--------------------------------------------\n",
      "\n",
      "**Data Set Characteristics:**\n",
      "\n",
      "    :Number of Instances: 569\n",
      "\n",
      "    :Number of Attributes: 30 numeric, predictive attributes and the class\n",
      "\n",
      "    :Attribute Information:\n",
      "        - radius (mean of distances from center to points on the perimeter)\n",
      "        - texture (standard deviation of gray-scale values)\n",
      "        - perimeter\n",
      "        - area\n",
      "        - smoothness (local variation in radius lengths)\n",
      "        - compactness (perimeter^2 / area - 1.0)\n",
      "        - concavity (severity of concave portions of the contour)\n",
      "        - concave points (number of concave portions of the contour)\n",
      "        - symmetry\n",
      "        - fractal dimension (\"coastline approximation\" - 1)\n",
      "\n",
      "        The mean, standard error, and \"worst\" or largest (mean of the three\n",
      "        worst/largest values) of these features were computed for each image,\n",
      "        resulting in 30 features.  For instance, field 0 is Mean Radius, field\n",
      "        10 is Radius SE, field 20 is Worst Radius.\n",
      "\n",
      "        - class:\n",
      "                - WDBC-Malignant\n",
      "                - WDBC-Benign\n",
      "\n",
      "    :Summary Statistics:\n",
      "\n",
      "    ===================================== ====== ======\n",
      "                                           Min    Max\n",
      "    ===================================== ====== ======\n",
      "    radius (mean):                        6.981  28.11\n",
      "    texture (mean):                       9.71   39.28\n",
      "    perimeter (mean):                     43.79  188.5\n",
      "    area (mean):                          143.5  2501.0\n",
      "    smoothness (mean):                    0.053  0.163\n",
      "    compactness (mean):                   0.019  0.345\n",
      "    concavity (mean):                     0.0    0.427\n",
      "    concave points (mean):                0.0    0.201\n",
      "    symmetry (mean):                      0.106  0.304\n",
      "    fractal dimension (mean):             0.05   0.097\n",
      "    radius (standard error):              0.112  2.873\n",
      "    texture (standard error):             0.36   4.885\n",
      "    perimeter (standard error):           0.757  21.98\n",
      "    area (standard error):                6.802  542.2\n",
      "    smoothness (standard error):          0.002  0.031\n",
      "    compactness (standard error):         0.002  0.135\n",
      "    concavity (standard error):           0.0    0.396\n",
      "    concave points (standard error):      0.0    0.053\n",
      "    symmetry (standard error):            0.008  0.079\n",
      "    fractal dimension (standard error):   0.001  0.03\n",
      "    radius (worst):                       7.93   36.04\n",
      "    texture (worst):                      12.02  49.54\n",
      "    perimeter (worst):                    50.41  251.2\n",
      "    area (worst):                         185.2  4254.0\n",
      "    smoothness (worst):                   0.071  0.223\n",
      "    compactness (worst):                  0.027  1.058\n",
      "    concavity (worst):                    0.0    1.252\n",
      "    concave points (worst):               0.0    0.291\n",
      "    symmetry (worst):                     0.156  0.664\n",
      "    fractal dimension (worst):            0.055  0.208\n",
      "    ===================================== ====== ======\n",
      "\n",
      "    :Missing Attribute Values: None\n",
      "\n",
      "    :Class Distribution: 212 - Malignant, 357 - Benign\n",
      "\n",
      "    :Creator:  Dr. William H. Wolberg, W. Nick Street, Olvi L. Mangasarian\n",
      "\n",
      "    :Donor: Nick Street\n",
      "\n",
      "    :Date: November, 1995\n",
      "\n",
      "This is a copy of UCI ML Breast Cancer Wisconsin (Diagnostic) datasets.\n",
      "https://goo.gl/U2Uwz2\n",
      "\n",
      "Features are computed from a digitized image of a fine needle\n",
      "aspirate (FNA) of a breast mass.  They describe\n",
      "characteristics of the cell nuclei present in the image.\n",
      "\n",
      "Separating plane described above was obtained using\n",
      "Multisurface Method-Tree (MSM-T) [K. P. Bennett, \"Decision Tree\n",
      "Construction Via Linear Programming.\" Proceedings of the 4th\n",
      "Midwest Artificial Intelligence and Cognitive Science Society,\n",
      "pp. 97-101, 1992], a classification method which uses linear\n",
      "programming to construct a decision tree.  Relevant features\n",
      "were selected using an exhaustive search in the space of 1-4\n",
      "features and 1-3 separating planes.\n",
      "\n",
      "The actual linear program used to obtain the separating plane\n",
      "in the 3-dimensional space is that described in:\n",
      "[K. P. Bennett and O. L. Mangasarian: \"Robust Linear\n",
      "Programming Discrimination of Two Linearly Inseparable Sets\",\n",
      "Optimization Methods and Software 1, 1992, 23-34].\n",
      "\n",
      "This database is also available through the UW CS ftp server:\n",
      "\n",
      "ftp ftp.cs.wisc.edu\n",
      "cd math-prog/cpo-dataset/machine-learn/WDBC/\n",
      "\n",
      ".. topic:: References\n",
      "\n",
      "   - W.N. Street, W.H. Wolberg and O.L. Mangasarian. Nuclear feature extraction \n",
      "     for breast tumor diagnosis. IS&T/SPIE 1993 International Symposium on \n",
      "     Electronic Imaging: Science and Technology, volume 1905, pages 861-870,\n",
      "     San Jose, CA, 1993.\n",
      "   - O.L. Mangasarian, W.N. Street and W.H. Wolberg. Breast cancer diagnosis and \n",
      "     prognosis via linear programming. Operations Research, 43(4), pages 570-577, \n",
      "     July-August 1995.\n",
      "   - W.H. Wolberg, W.N. Street, and O.L. Mangasarian. Machine learning techniques\n",
      "     to diagnose breast cancer from fine-needle aspirates. Cancer Letters 77 (1994) \n",
      "     163-171.\n"
     ]
    }
   ],
   "source": [
    "print(cancer.DESCR)"
   ]
  },
  {
   "cell_type": "code",
   "execution_count": 76,
   "metadata": {},
   "outputs": [
    {
     "data": {
      "text/plain": [
       "array([[1.799e+01, 1.038e+01, 1.228e+02, 1.001e+03, 1.184e-01, 2.776e-01,\n",
       "        3.001e-01, 1.471e-01, 2.419e-01, 7.871e-02, 1.095e+00, 9.053e-01,\n",
       "        8.589e+00, 1.534e+02, 6.399e-03, 4.904e-02, 5.373e-02, 1.587e-02,\n",
       "        3.003e-02, 6.193e-03, 2.538e+01, 1.733e+01, 1.846e+02, 2.019e+03,\n",
       "        1.622e-01, 6.656e-01, 7.119e-01, 2.654e-01, 4.601e-01, 1.189e-01],\n",
       "       [2.057e+01, 1.777e+01, 1.329e+02, 1.326e+03, 8.474e-02, 7.864e-02,\n",
       "        8.690e-02, 7.017e-02, 1.812e-01, 5.667e-02, 5.435e-01, 7.339e-01,\n",
       "        3.398e+00, 7.408e+01, 5.225e-03, 1.308e-02, 1.860e-02, 1.340e-02,\n",
       "        1.389e-02, 3.532e-03, 2.499e+01, 2.341e+01, 1.588e+02, 1.956e+03,\n",
       "        1.238e-01, 1.866e-01, 2.416e-01, 1.860e-01, 2.750e-01, 8.902e-02]])"
      ]
     },
     "execution_count": 76,
     "metadata": {},
     "output_type": "execute_result"
    }
   ],
   "source": [
    "cancer.data[0:2]"
   ]
  },
  {
   "cell_type": "code",
   "execution_count": 77,
   "metadata": {},
   "outputs": [
    {
     "data": {
      "text/plain": [
       "array([0, 0])"
      ]
     },
     "execution_count": 77,
     "metadata": {},
     "output_type": "execute_result"
    }
   ],
   "source": [
    "cancer.target[0:2]"
   ]
  },
  {
   "cell_type": "code",
   "execution_count": 79,
   "metadata": {},
   "outputs": [],
   "source": [
    "x_train, x_test, y_train, y_test = train_test_split(cancer.data, \n",
    "                                                    cancer.target, \n",
    "                                                    test_size=0.3, \n",
    "                                                    random_state=13)"
   ]
  },
  {
   "cell_type": "code",
   "execution_count": 81,
   "metadata": {},
   "outputs": [],
   "source": [
    "# create the model\n",
    "from sklearn.svm import SVC"
   ]
  },
  {
   "cell_type": "code",
   "execution_count": 83,
   "metadata": {},
   "outputs": [],
   "source": [
    "clf = SVC(kernel='linear')\n",
    "\n",
    "clf.fit(x_train, y_train)\n",
    "\n",
    "y_pred = clf.predict(x_test)"
   ]
  },
  {
   "cell_type": "code",
   "execution_count": 84,
   "metadata": {},
   "outputs": [
    {
     "data": {
      "text/plain": [
       "0.9590643274853801"
      ]
     },
     "execution_count": 84,
     "metadata": {},
     "output_type": "execute_result"
    }
   ],
   "source": [
    "accuracy_score(y_test, y_pred)"
   ]
  },
  {
   "cell_type": "markdown",
   "metadata": {},
   "source": [
    "## Exercise"
   ]
  },
  {
   "cell_type": "code",
   "execution_count": 86,
   "metadata": {},
   "outputs": [],
   "source": [
    "import pandas as pd\n",
    "import numpy as np"
   ]
  },
  {
   "cell_type": "code",
   "execution_count": 87,
   "metadata": {},
   "outputs": [],
   "source": [
    "data = pd.read_csv('https://raw.githubusercontent.com/ardhiraka/PFDS_sources/master/Final_Dataset/train.csv')"
   ]
  },
  {
   "cell_type": "code",
   "execution_count": 88,
   "metadata": {},
   "outputs": [
    {
     "data": {
      "text/html": [
       "<div>\n",
       "<style scoped>\n",
       "    .dataframe tbody tr th:only-of-type {\n",
       "        vertical-align: middle;\n",
       "    }\n",
       "\n",
       "    .dataframe tbody tr th {\n",
       "        vertical-align: top;\n",
       "    }\n",
       "\n",
       "    .dataframe thead th {\n",
       "        text-align: right;\n",
       "    }\n",
       "</style>\n",
       "<table border=\"1\" class=\"dataframe\">\n",
       "  <thead>\n",
       "    <tr style=\"text-align: right;\">\n",
       "      <th></th>\n",
       "      <th>Loan_ID</th>\n",
       "      <th>Gender</th>\n",
       "      <th>Married</th>\n",
       "      <th>Dependents</th>\n",
       "      <th>Education</th>\n",
       "      <th>Self_Employed</th>\n",
       "      <th>ApplicantIncome</th>\n",
       "      <th>CoapplicantIncome</th>\n",
       "      <th>LoanAmount</th>\n",
       "      <th>Loan_Amount_Term</th>\n",
       "      <th>Credit_History</th>\n",
       "      <th>Property_Area</th>\n",
       "      <th>Loan_Status</th>\n",
       "    </tr>\n",
       "  </thead>\n",
       "  <tbody>\n",
       "    <tr>\n",
       "      <th>0</th>\n",
       "      <td>LP001002</td>\n",
       "      <td>Male</td>\n",
       "      <td>No</td>\n",
       "      <td>0</td>\n",
       "      <td>Graduate</td>\n",
       "      <td>No</td>\n",
       "      <td>5849</td>\n",
       "      <td>0.0</td>\n",
       "      <td>NaN</td>\n",
       "      <td>360.0</td>\n",
       "      <td>1.0</td>\n",
       "      <td>Urban</td>\n",
       "      <td>Y</td>\n",
       "    </tr>\n",
       "    <tr>\n",
       "      <th>1</th>\n",
       "      <td>LP001003</td>\n",
       "      <td>Male</td>\n",
       "      <td>Yes</td>\n",
       "      <td>1</td>\n",
       "      <td>Graduate</td>\n",
       "      <td>No</td>\n",
       "      <td>4583</td>\n",
       "      <td>1508.0</td>\n",
       "      <td>128.0</td>\n",
       "      <td>360.0</td>\n",
       "      <td>1.0</td>\n",
       "      <td>Rural</td>\n",
       "      <td>N</td>\n",
       "    </tr>\n",
       "  </tbody>\n",
       "</table>\n",
       "</div>"
      ],
      "text/plain": [
       "    Loan_ID Gender Married Dependents Education Self_Employed  \\\n",
       "0  LP001002   Male      No          0  Graduate            No   \n",
       "1  LP001003   Male     Yes          1  Graduate            No   \n",
       "\n",
       "   ApplicantIncome  CoapplicantIncome  LoanAmount  Loan_Amount_Term  \\\n",
       "0             5849                0.0         NaN             360.0   \n",
       "1             4583             1508.0       128.0             360.0   \n",
       "\n",
       "   Credit_History Property_Area Loan_Status  \n",
       "0             1.0         Urban           Y  \n",
       "1             1.0         Rural           N  "
      ]
     },
     "execution_count": 88,
     "metadata": {},
     "output_type": "execute_result"
    }
   ],
   "source": [
    "data.head(2)"
   ]
  },
  {
   "cell_type": "code",
   "execution_count": 89,
   "metadata": {},
   "outputs": [
    {
     "data": {
      "text/plain": [
       "Loan_ID               0\n",
       "Gender               13\n",
       "Married               3\n",
       "Dependents           15\n",
       "Education             0\n",
       "Self_Employed        32\n",
       "ApplicantIncome       0\n",
       "CoapplicantIncome     0\n",
       "LoanAmount           22\n",
       "Loan_Amount_Term     14\n",
       "Credit_History       50\n",
       "Property_Area         0\n",
       "Loan_Status           0\n",
       "dtype: int64"
      ]
     },
     "execution_count": 89,
     "metadata": {},
     "output_type": "execute_result"
    }
   ],
   "source": [
    "data.isnull().sum()"
   ]
  },
  {
   "cell_type": "markdown",
   "metadata": {},
   "source": [
    "ada beberapa data numerik null"
   ]
  },
  {
   "cell_type": "code",
   "execution_count": 90,
   "metadata": {},
   "outputs": [],
   "source": [
    "# isi data null dengan mean\n",
    "data.fillna(data.mean(), inplace=True)"
   ]
  },
  {
   "cell_type": "code",
   "execution_count": 91,
   "metadata": {},
   "outputs": [
    {
     "data": {
      "text/plain": [
       "Loan_ID               0\n",
       "Gender               13\n",
       "Married               3\n",
       "Dependents           15\n",
       "Education             0\n",
       "Self_Employed        32\n",
       "ApplicantIncome       0\n",
       "CoapplicantIncome     0\n",
       "LoanAmount            0\n",
       "Loan_Amount_Term      0\n",
       "Credit_History        0\n",
       "Property_Area         0\n",
       "Loan_Status           0\n",
       "dtype: int64"
      ]
     },
     "execution_count": 91,
     "metadata": {},
     "output_type": "execute_result"
    }
   ],
   "source": [
    "data.isnull().sum()"
   ]
  },
  {
   "cell_type": "markdown",
   "metadata": {},
   "source": [
    "tersisa data non numerik yg masih terdapat null"
   ]
  },
  {
   "cell_type": "code",
   "execution_count": 94,
   "metadata": {},
   "outputs": [],
   "source": [
    "data.Gender.fillna(data.Gender.mode()[0], inplace=True)"
   ]
  },
  {
   "cell_type": "code",
   "execution_count": 100,
   "metadata": {},
   "outputs": [],
   "source": [
    "data.Married.fillna(data.Married.mode()[0], inplace=True)\n",
    "data.Dependents.fillna(data.Dependents.mode()[0], inplace=True)\n",
    "data.Self_Employed.fillna(data.Self_Employed.mode()[0], inplace=True)"
   ]
  },
  {
   "cell_type": "code",
   "execution_count": 97,
   "metadata": {},
   "outputs": [
    {
     "data": {
      "text/plain": [
       "(614, 13)"
      ]
     },
     "execution_count": 97,
     "metadata": {},
     "output_type": "execute_result"
    }
   ],
   "source": [
    "data.shape"
   ]
  },
  {
   "cell_type": "code",
   "execution_count": 101,
   "metadata": {},
   "outputs": [
    {
     "data": {
      "text/plain": [
       "Loan_ID              0\n",
       "Gender               0\n",
       "Married              0\n",
       "Dependents           0\n",
       "Education            0\n",
       "Self_Employed        0\n",
       "ApplicantIncome      0\n",
       "CoapplicantIncome    0\n",
       "LoanAmount           0\n",
       "Loan_Amount_Term     0\n",
       "Credit_History       0\n",
       "Property_Area        0\n",
       "Loan_Status          0\n",
       "dtype: int64"
      ]
     },
     "execution_count": 101,
     "metadata": {},
     "output_type": "execute_result"
    }
   ],
   "source": [
    "data.isnull().sum()"
   ]
  },
  {
   "cell_type": "markdown",
   "metadata": {},
   "source": [
    "data clear from missing value"
   ]
  },
  {
   "cell_type": "code",
   "execution_count": 104,
   "metadata": {},
   "outputs": [],
   "source": [
    "data.Loan_Amount_Term = np.log(data.Loan_Amount_Term)"
   ]
  },
  {
   "cell_type": "code",
   "execution_count": 105,
   "metadata": {},
   "outputs": [
    {
     "data": {
      "text/html": [
       "<div>\n",
       "<style scoped>\n",
       "    .dataframe tbody tr th:only-of-type {\n",
       "        vertical-align: middle;\n",
       "    }\n",
       "\n",
       "    .dataframe tbody tr th {\n",
       "        vertical-align: top;\n",
       "    }\n",
       "\n",
       "    .dataframe thead th {\n",
       "        text-align: right;\n",
       "    }\n",
       "</style>\n",
       "<table border=\"1\" class=\"dataframe\">\n",
       "  <thead>\n",
       "    <tr style=\"text-align: right;\">\n",
       "      <th></th>\n",
       "      <th>Loan_ID</th>\n",
       "      <th>Gender</th>\n",
       "      <th>Married</th>\n",
       "      <th>Dependents</th>\n",
       "      <th>Education</th>\n",
       "      <th>Self_Employed</th>\n",
       "      <th>ApplicantIncome</th>\n",
       "      <th>CoapplicantIncome</th>\n",
       "      <th>LoanAmount</th>\n",
       "      <th>Loan_Amount_Term</th>\n",
       "      <th>Credit_History</th>\n",
       "      <th>Property_Area</th>\n",
       "      <th>Loan_Status</th>\n",
       "    </tr>\n",
       "  </thead>\n",
       "  <tbody>\n",
       "    <tr>\n",
       "      <th>0</th>\n",
       "      <td>LP001002</td>\n",
       "      <td>Male</td>\n",
       "      <td>No</td>\n",
       "      <td>0</td>\n",
       "      <td>Graduate</td>\n",
       "      <td>No</td>\n",
       "      <td>5849</td>\n",
       "      <td>0.0</td>\n",
       "      <td>146.412162</td>\n",
       "      <td>5.886104</td>\n",
       "      <td>1.0</td>\n",
       "      <td>Urban</td>\n",
       "      <td>Y</td>\n",
       "    </tr>\n",
       "    <tr>\n",
       "      <th>1</th>\n",
       "      <td>LP001003</td>\n",
       "      <td>Male</td>\n",
       "      <td>Yes</td>\n",
       "      <td>1</td>\n",
       "      <td>Graduate</td>\n",
       "      <td>No</td>\n",
       "      <td>4583</td>\n",
       "      <td>1508.0</td>\n",
       "      <td>128.000000</td>\n",
       "      <td>5.886104</td>\n",
       "      <td>1.0</td>\n",
       "      <td>Rural</td>\n",
       "      <td>N</td>\n",
       "    </tr>\n",
       "  </tbody>\n",
       "</table>\n",
       "</div>"
      ],
      "text/plain": [
       "    Loan_ID Gender Married Dependents Education Self_Employed  \\\n",
       "0  LP001002   Male      No          0  Graduate            No   \n",
       "1  LP001003   Male     Yes          1  Graduate            No   \n",
       "\n",
       "   ApplicantIncome  CoapplicantIncome  LoanAmount  Loan_Amount_Term  \\\n",
       "0             5849                0.0  146.412162          5.886104   \n",
       "1             4583             1508.0  128.000000          5.886104   \n",
       "\n",
       "   Credit_History Property_Area Loan_Status  \n",
       "0             1.0         Urban           Y  \n",
       "1             1.0         Rural           N  "
      ]
     },
     "execution_count": 105,
     "metadata": {},
     "output_type": "execute_result"
    }
   ],
   "source": [
    "data.head(2)"
   ]
  },
  {
   "cell_type": "code",
   "execution_count": 113,
   "metadata": {},
   "outputs": [],
   "source": [
    "x = data.drop('Loan_Status', 1)\n",
    "y = data.Loan_Status"
   ]
  },
  {
   "cell_type": "code",
   "execution_count": 106,
   "metadata": {},
   "outputs": [
    {
     "data": {
      "text/plain": [
       "array(['Male', 'Female'], dtype=object)"
      ]
     },
     "execution_count": 106,
     "metadata": {},
     "output_type": "execute_result"
    }
   ],
   "source": [
    "data.Gender.unique()"
   ]
  },
  {
   "cell_type": "code",
   "execution_count": 107,
   "metadata": {},
   "outputs": [
    {
     "data": {
      "text/plain": [
       "array(['Graduate', 'Not Graduate'], dtype=object)"
      ]
     },
     "execution_count": 107,
     "metadata": {},
     "output_type": "execute_result"
    }
   ],
   "source": [
    "data.Education.unique()"
   ]
  },
  {
   "cell_type": "code",
   "execution_count": 114,
   "metadata": {},
   "outputs": [
    {
     "data": {
      "text/html": [
       "<div>\n",
       "<style scoped>\n",
       "    .dataframe tbody tr th:only-of-type {\n",
       "        vertical-align: middle;\n",
       "    }\n",
       "\n",
       "    .dataframe tbody tr th {\n",
       "        vertical-align: top;\n",
       "    }\n",
       "\n",
       "    .dataframe thead th {\n",
       "        text-align: right;\n",
       "    }\n",
       "</style>\n",
       "<table border=\"1\" class=\"dataframe\">\n",
       "  <thead>\n",
       "    <tr style=\"text-align: right;\">\n",
       "      <th></th>\n",
       "      <th>ApplicantIncome</th>\n",
       "      <th>CoapplicantIncome</th>\n",
       "      <th>LoanAmount</th>\n",
       "      <th>Loan_Amount_Term</th>\n",
       "      <th>Credit_History</th>\n",
       "      <th>Loan_ID_LP001002</th>\n",
       "      <th>Loan_ID_LP001003</th>\n",
       "      <th>Loan_ID_LP001005</th>\n",
       "      <th>Loan_ID_LP001006</th>\n",
       "      <th>Loan_ID_LP001008</th>\n",
       "      <th>...</th>\n",
       "      <th>Dependents_1</th>\n",
       "      <th>Dependents_2</th>\n",
       "      <th>Dependents_3+</th>\n",
       "      <th>Education_Graduate</th>\n",
       "      <th>Education_Not Graduate</th>\n",
       "      <th>Self_Employed_No</th>\n",
       "      <th>Self_Employed_Yes</th>\n",
       "      <th>Property_Area_Rural</th>\n",
       "      <th>Property_Area_Semiurban</th>\n",
       "      <th>Property_Area_Urban</th>\n",
       "    </tr>\n",
       "  </thead>\n",
       "  <tbody>\n",
       "    <tr>\n",
       "      <th>0</th>\n",
       "      <td>5849</td>\n",
       "      <td>0.0</td>\n",
       "      <td>146.412162</td>\n",
       "      <td>5.886104</td>\n",
       "      <td>1.0</td>\n",
       "      <td>1</td>\n",
       "      <td>0</td>\n",
       "      <td>0</td>\n",
       "      <td>0</td>\n",
       "      <td>0</td>\n",
       "      <td>...</td>\n",
       "      <td>0</td>\n",
       "      <td>0</td>\n",
       "      <td>0</td>\n",
       "      <td>1</td>\n",
       "      <td>0</td>\n",
       "      <td>1</td>\n",
       "      <td>0</td>\n",
       "      <td>0</td>\n",
       "      <td>0</td>\n",
       "      <td>1</td>\n",
       "    </tr>\n",
       "    <tr>\n",
       "      <th>1</th>\n",
       "      <td>4583</td>\n",
       "      <td>1508.0</td>\n",
       "      <td>128.000000</td>\n",
       "      <td>5.886104</td>\n",
       "      <td>1.0</td>\n",
       "      <td>0</td>\n",
       "      <td>1</td>\n",
       "      <td>0</td>\n",
       "      <td>0</td>\n",
       "      <td>0</td>\n",
       "      <td>...</td>\n",
       "      <td>1</td>\n",
       "      <td>0</td>\n",
       "      <td>0</td>\n",
       "      <td>1</td>\n",
       "      <td>0</td>\n",
       "      <td>1</td>\n",
       "      <td>0</td>\n",
       "      <td>1</td>\n",
       "      <td>0</td>\n",
       "      <td>0</td>\n",
       "    </tr>\n",
       "  </tbody>\n",
       "</table>\n",
       "<p>2 rows × 634 columns</p>\n",
       "</div>"
      ],
      "text/plain": [
       "   ApplicantIncome  CoapplicantIncome  LoanAmount  Loan_Amount_Term  \\\n",
       "0             5849                0.0  146.412162          5.886104   \n",
       "1             4583             1508.0  128.000000          5.886104   \n",
       "\n",
       "   Credit_History  Loan_ID_LP001002  Loan_ID_LP001003  Loan_ID_LP001005  \\\n",
       "0             1.0                 1                 0                 0   \n",
       "1             1.0                 0                 1                 0   \n",
       "\n",
       "   Loan_ID_LP001006  Loan_ID_LP001008  ...  Dependents_1  Dependents_2  \\\n",
       "0                 0                 0  ...             0             0   \n",
       "1                 0                 0  ...             1             0   \n",
       "\n",
       "   Dependents_3+  Education_Graduate  Education_Not Graduate  \\\n",
       "0              0                   1                       0   \n",
       "1              0                   1                       0   \n",
       "\n",
       "   Self_Employed_No  Self_Employed_Yes  Property_Area_Rural  \\\n",
       "0                 1                  0                    0   \n",
       "1                 1                  0                    1   \n",
       "\n",
       "   Property_Area_Semiurban  Property_Area_Urban  \n",
       "0                        0                    1  \n",
       "1                        0                    0  \n",
       "\n",
       "[2 rows x 634 columns]"
      ]
     },
     "execution_count": 114,
     "metadata": {},
     "output_type": "execute_result"
    }
   ],
   "source": [
    "x = pd.get_dummies(x)\n",
    "x.head(2)"
   ]
  },
  {
   "cell_type": "code",
   "execution_count": 108,
   "metadata": {},
   "outputs": [
    {
     "data": {
      "text/plain": [
       "0    0\n",
       "1    0\n",
       "Name: species, dtype: int32"
      ]
     },
     "execution_count": 108,
     "metadata": {},
     "output_type": "execute_result"
    }
   ],
   "source": [
    "y[0:2]"
   ]
  },
  {
   "cell_type": "code",
   "execution_count": 115,
   "metadata": {},
   "outputs": [],
   "source": [
    "x_train, x_test, y_train, y_test = train_test_split(x, \n",
    "                                                    y, \n",
    "                                                    test_size=0.3, \n",
    "                                                    random_state=13)"
   ]
  },
  {
   "cell_type": "code",
   "execution_count": 119,
   "metadata": {},
   "outputs": [
    {
     "name": "stderr",
     "output_type": "stream",
     "text": [
      "C:\\Users\\icode9\\anaconda3\\lib\\site-packages\\sklearn\\linear_model\\_logistic.py:762: ConvergenceWarning: lbfgs failed to converge (status=1):\n",
      "STOP: TOTAL NO. of ITERATIONS REACHED LIMIT.\n",
      "\n",
      "Increase the number of iterations (max_iter) or scale the data as shown in:\n",
      "    https://scikit-learn.org/stable/modules/preprocessing.html\n",
      "Please also refer to the documentation for alternative solver options:\n",
      "    https://scikit-learn.org/stable/modules/linear_model.html#logistic-regression\n",
      "  n_iter_i = _check_optimize_result(\n"
     ]
    }
   ],
   "source": [
    "# LR \n",
    "from sklearn.linear_model import LogisticRegression\n",
    "\n",
    "modelLR = LogisticRegression()\n",
    "modelLR.fit(x_train, y_train)\n",
    "pred_LR = modelLR.predict(x_test)\n",
    "\n",
    "acc_LR = accuracy_score(y_test, pred_LR)"
   ]
  },
  {
   "cell_type": "code",
   "execution_count": 117,
   "metadata": {},
   "outputs": [
    {
     "ename": "ImportError",
     "evalue": "cannot import name 'DecisionTreeClassifier' from 'sklearn.linear_model' (C:\\Users\\icode9\\anaconda3\\lib\\site-packages\\sklearn\\linear_model\\__init__.py)",
     "output_type": "error",
     "traceback": [
      "\u001b[1;31m---------------------------------------------------------------------------\u001b[0m",
      "\u001b[1;31mImportError\u001b[0m                               Traceback (most recent call last)",
      "\u001b[1;32m<ipython-input-117-e3d5fff8568c>\u001b[0m in \u001b[0;36m<module>\u001b[1;34m\u001b[0m\n\u001b[0;32m      1\u001b[0m \u001b[1;31m# DT\u001b[0m\u001b[1;33m\u001b[0m\u001b[1;33m\u001b[0m\u001b[1;33m\u001b[0m\u001b[0m\n\u001b[1;32m----> 2\u001b[1;33m \u001b[1;32mfrom\u001b[0m \u001b[0msklearn\u001b[0m\u001b[1;33m.\u001b[0m\u001b[0mlinear_model\u001b[0m \u001b[1;32mimport\u001b[0m \u001b[0mDecisionTreeClassifier\u001b[0m\u001b[1;33m\u001b[0m\u001b[1;33m\u001b[0m\u001b[0m\n\u001b[0m\u001b[0;32m      3\u001b[0m \u001b[1;33m\u001b[0m\u001b[0m\n\u001b[0;32m      4\u001b[0m \u001b[0mmodelDT\u001b[0m \u001b[1;33m=\u001b[0m \u001b[0mDecisionTreeClassifier\u001b[0m\u001b[1;33m(\u001b[0m\u001b[1;33m)\u001b[0m\u001b[1;33m\u001b[0m\u001b[1;33m\u001b[0m\u001b[0m\n\u001b[0;32m      5\u001b[0m \u001b[0mmodelDT\u001b[0m\u001b[1;33m.\u001b[0m\u001b[0mfit\u001b[0m\u001b[1;33m(\u001b[0m\u001b[0mx_train\u001b[0m\u001b[1;33m,\u001b[0m \u001b[0my_train\u001b[0m\u001b[1;33m)\u001b[0m\u001b[1;33m\u001b[0m\u001b[1;33m\u001b[0m\u001b[0m\n",
      "\u001b[1;31mImportError\u001b[0m: cannot import name 'DecisionTreeClassifier' from 'sklearn.linear_model' (C:\\Users\\icode9\\anaconda3\\lib\\site-packages\\sklearn\\linear_model\\__init__.py)"
     ]
    }
   ],
   "source": [
    "# DT\n",
    "from sklearn.linear_model import DecisionTreeClassifier\n",
    "\n",
    "modelDT = DecisionTreeClassifier()\n",
    "modelDT.fit(x_train, y_train)\n",
    "pred_DT = modelDT.predict(x_test)\n",
    "\n",
    "acc_DT = accuracy_score(y_test, pred_DT)"
   ]
  },
  {
   "cell_type": "code",
   "execution_count": null,
   "metadata": {},
   "outputs": [],
   "source": [
    "# RF\n",
    "from sklearn.ensemble import RandomForestClassifier\n",
    "\n",
    "modelRF = RandomForestClassifier()\n",
    "modelRF.fit(x_train, y_train)\n",
    "pred_RF = modelDT.predict(x_test)\n",
    "\n",
    "acc_DT = accuracy_score(y_test, pred_DT)"
   ]
  },
  {
   "cell_type": "code",
   "execution_count": null,
   "metadata": {},
   "outputs": [],
   "source": [
    "print('RF:', acc_RF)\n",
    "print('DT:', acc_DT)\n",
    "print('LR:', acc_LR)"
   ]
  },
  {
   "cell_type": "code",
   "execution_count": null,
   "metadata": {},
   "outputs": [],
   "source": [
    "pd.DataFrame({\n",
    "    'id': x_test.index,\n",
    "    'prediction': pred_LR\n",
    "}).to_csv('H8_Credit_Prediction.csv')"
   ]
  },
  {
   "cell_type": "code",
   "execution_count": null,
   "metadata": {},
   "outputs": [],
   "source": [
    "pd.read_csv('H8_Credit_Prediction.csv')"
   ]
  },
  {
   "cell_type": "code",
   "execution_count": null,
   "metadata": {},
   "outputs": [],
   "source": []
  }
 ],
 "metadata": {
  "kernelspec": {
   "display_name": "Python 3",
   "language": "python",
   "name": "python3"
  },
  "language_info": {
   "codemirror_mode": {
    "name": "ipython",
    "version": 3
   },
   "file_extension": ".py",
   "mimetype": "text/x-python",
   "name": "python",
   "nbconvert_exporter": "python",
   "pygments_lexer": "ipython3",
   "version": "3.8.5"
  }
 },
 "nbformat": 4,
 "nbformat_minor": 4
}
